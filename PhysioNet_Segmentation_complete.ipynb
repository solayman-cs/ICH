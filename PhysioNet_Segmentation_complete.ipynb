{
  "cells": [
    {
      "cell_type": "markdown",
      "metadata": {
        "id": "view-in-github",
        "colab_type": "text"
      },
      "source": [
        "<a href=\"https://colab.research.google.com/github/solayman-cs/ICH/blob/main/PhysioNet_Segmentation_complete.ipynb\" target=\"_parent\"><img src=\"https://colab.research.google.com/assets/colab-badge.svg\" alt=\"Open In Colab\"/></a>"
      ]
    },
    {
      "cell_type": "code",
      "execution_count": null,
      "metadata": {
        "colab": {
          "base_uri": "https://localhost:8080/"
        },
        "id": "lr6FY0A8cOwL",
        "outputId": "762b9869-bf96-4562-8d94-72f292baf2fc"
      },
      "outputs": [
        {
          "name": "stdout",
          "output_type": "stream",
          "text": [
            "Drive already mounted at /content/drive; to attempt to forcibly remount, call drive.mount(\"/content/drive\", force_remount=True).\n"
          ]
        }
      ],
      "source": [
        "from google.colab import drive\n",
        "drive.mount('/content/drive')"
      ]
    },
    {
      "cell_type": "code",
      "execution_count": null,
      "metadata": {
        "id": "PMzkyXB6bnAt"
      },
      "outputs": [],
      "source": [
        "import os\n",
        "import numpy as np\n",
        "import pandas as pd\n",
        "import nibabel as nib\n",
        "import imageio\n",
        "import skimage.io\n",
        "import skimage.transform\n",
        "from pathlib import Path\n",
        "from imageio import imread\n",
        "from sklearn.utils import shuffle\n",
        "from sklearn.model_selection import train_test_split\n",
        "import matplotlib.pyplot as plt\n",
        "%matplotlib inline"
      ]
    },
    {
      "cell_type": "code",
      "execution_count": null,
      "metadata": {
        "colab": {
          "base_uri": "https://localhost:8080/"
        },
        "id": "Ie11vGA3cCnr",
        "outputId": "436a0247-c62b-492a-b717-5bed4d5a4d82"
      },
      "outputs": [
        {
          "name": "stdout",
          "output_type": "stream",
          "text": [
            "/content/drive/My Drive/DataSets/computed-tomography-images-for-intracranial-hemorrhage-detection-and-segmentation-1.0.0\n"
          ]
        }
      ],
      "source": [
        "%cd /content/drive/My Drive/DataSets/computed-tomography-images-for-intracranial-hemorrhage-detection-and-segmentation-1.0.0"
      ]
    },
    {
      "cell_type": "code",
      "execution_count": null,
      "metadata": {
        "colab": {
          "base_uri": "https://localhost:8080/"
        },
        "id": "NoE-AGnxcVNK",
        "outputId": "31c1eeea-de0b-4f58-9f28-9ccefa695027"
      },
      "outputs": [
        {
          "data": {
            "text/plain": [
              "['LICENSE.txt',\n",
              " 'README.txt',\n",
              " 'split_data.py',\n",
              " 'SHA256SUMS.txt',\n",
              " 'hemorrhage_diagnosis.csv',\n",
              " 'patient_demographics.csv',\n",
              " 'ct_ich.yml',\n",
              " 'Patients_CT',\n",
              " 'mask_dir',\n",
              " 'brain_image_dir',\n",
              " 'model_cls.h5',\n",
              " 'model.h5',\n",
              " 'model_UNet_seg.h5',\n",
              " 'model_seg_f.h5',\n",
              " 'training_log.csv',\n",
              " 'df_data.csv.gz',\n",
              " 'df_val.csv.gz',\n",
              " 'df_train.csv.gz',\n",
              " 'df_test.csv.gz']"
            ]
          },
          "execution_count": 33,
          "metadata": {},
          "output_type": "execute_result"
        }
      ],
      "source": [
        "os.listdir()"
      ]
    },
    {
      "cell_type": "code",
      "execution_count": null,
      "metadata": {
        "colab": {
          "base_uri": "https://localhost:8080/"
        },
        "id": "u7ULVvSJcjBi",
        "outputId": "b6452e6c-8552-44b2-d9f3-b0b948ce5d35"
      },
      "outputs": [
        {
          "data": {
            "text/plain": [
              "(2501, 9)"
            ]
          },
          "execution_count": 5,
          "metadata": {},
          "output_type": "execute_result"
        }
      ],
      "source": [
        "diag_path = 'hemorrhage_diagnosis.csv'\n",
        "df_diag = pd.read_csv(diag_path)\n",
        "df_diag.shape"
      ]
    },
    {
      "cell_type": "code",
      "execution_count": null,
      "metadata": {
        "colab": {
          "base_uri": "https://localhost:8080/",
          "height": 223
        },
        "id": "Sr2XISeoeEda",
        "outputId": "b9fbcf4d-2bbd-4e7c-9297-b531db20cff1"
      },
      "outputs": [
        {
          "name": "stdout",
          "output_type": "stream",
          "text": [
            "(2501, 9)\n"
          ]
        },
        {
          "data": {
            "text/html": [
              "\n",
              "  <div id=\"df-aec1b589-f64f-4c2a-80a8-52138090b49b\">\n",
              "    <div class=\"colab-df-container\">\n",
              "      <div>\n",
              "<style scoped>\n",
              "    .dataframe tbody tr th:only-of-type {\n",
              "        vertical-align: middle;\n",
              "    }\n",
              "\n",
              "    .dataframe tbody tr th {\n",
              "        vertical-align: top;\n",
              "    }\n",
              "\n",
              "    .dataframe thead th {\n",
              "        text-align: right;\n",
              "    }\n",
              "</style>\n",
              "<table border=\"1\" class=\"dataframe\">\n",
              "  <thead>\n",
              "    <tr style=\"text-align: right;\">\n",
              "      <th></th>\n",
              "      <th>PatientNumber</th>\n",
              "      <th>SliceNumber</th>\n",
              "      <th>Intraventricular</th>\n",
              "      <th>Intraparenchymal</th>\n",
              "      <th>Subarachnoid</th>\n",
              "      <th>Epidural</th>\n",
              "      <th>Subdural</th>\n",
              "      <th>Fracture_Yes_No</th>\n",
              "      <th>Has_Hemorrhage</th>\n",
              "    </tr>\n",
              "  </thead>\n",
              "  <tbody>\n",
              "    <tr>\n",
              "      <th>0</th>\n",
              "      <td>49</td>\n",
              "      <td>1</td>\n",
              "      <td>0</td>\n",
              "      <td>0</td>\n",
              "      <td>0</td>\n",
              "      <td>0</td>\n",
              "      <td>0</td>\n",
              "      <td>0</td>\n",
              "      <td>0</td>\n",
              "    </tr>\n",
              "    <tr>\n",
              "      <th>1</th>\n",
              "      <td>49</td>\n",
              "      <td>2</td>\n",
              "      <td>0</td>\n",
              "      <td>0</td>\n",
              "      <td>0</td>\n",
              "      <td>0</td>\n",
              "      <td>0</td>\n",
              "      <td>0</td>\n",
              "      <td>0</td>\n",
              "    </tr>\n",
              "    <tr>\n",
              "      <th>2</th>\n",
              "      <td>49</td>\n",
              "      <td>3</td>\n",
              "      <td>0</td>\n",
              "      <td>0</td>\n",
              "      <td>0</td>\n",
              "      <td>0</td>\n",
              "      <td>0</td>\n",
              "      <td>0</td>\n",
              "      <td>0</td>\n",
              "    </tr>\n",
              "    <tr>\n",
              "      <th>3</th>\n",
              "      <td>49</td>\n",
              "      <td>4</td>\n",
              "      <td>0</td>\n",
              "      <td>0</td>\n",
              "      <td>0</td>\n",
              "      <td>0</td>\n",
              "      <td>0</td>\n",
              "      <td>0</td>\n",
              "      <td>0</td>\n",
              "    </tr>\n",
              "    <tr>\n",
              "      <th>4</th>\n",
              "      <td>49</td>\n",
              "      <td>5</td>\n",
              "      <td>0</td>\n",
              "      <td>0</td>\n",
              "      <td>0</td>\n",
              "      <td>0</td>\n",
              "      <td>0</td>\n",
              "      <td>0</td>\n",
              "      <td>0</td>\n",
              "    </tr>\n",
              "  </tbody>\n",
              "</table>\n",
              "</div>\n",
              "      <button class=\"colab-df-convert\" onclick=\"convertToInteractive('df-aec1b589-f64f-4c2a-80a8-52138090b49b')\"\n",
              "              title=\"Convert this dataframe to an interactive table.\"\n",
              "              style=\"display:none;\">\n",
              "        \n",
              "  <svg xmlns=\"http://www.w3.org/2000/svg\" height=\"24px\"viewBox=\"0 0 24 24\"\n",
              "       width=\"24px\">\n",
              "    <path d=\"M0 0h24v24H0V0z\" fill=\"none\"/>\n",
              "    <path d=\"M18.56 5.44l.94 2.06.94-2.06 2.06-.94-2.06-.94-.94-2.06-.94 2.06-2.06.94zm-11 1L8.5 8.5l.94-2.06 2.06-.94-2.06-.94L8.5 2.5l-.94 2.06-2.06.94zm10 10l.94 2.06.94-2.06 2.06-.94-2.06-.94-.94-2.06-.94 2.06-2.06.94z\"/><path d=\"M17.41 7.96l-1.37-1.37c-.4-.4-.92-.59-1.43-.59-.52 0-1.04.2-1.43.59L10.3 9.45l-7.72 7.72c-.78.78-.78 2.05 0 2.83L4 21.41c.39.39.9.59 1.41.59.51 0 1.02-.2 1.41-.59l7.78-7.78 2.81-2.81c.8-.78.8-2.07 0-2.86zM5.41 20L4 18.59l7.72-7.72 1.47 1.35L5.41 20z\"/>\n",
              "  </svg>\n",
              "      </button>\n",
              "      \n",
              "  <style>\n",
              "    .colab-df-container {\n",
              "      display:flex;\n",
              "      flex-wrap:wrap;\n",
              "      gap: 12px;\n",
              "    }\n",
              "\n",
              "    .colab-df-convert {\n",
              "      background-color: #E8F0FE;\n",
              "      border: none;\n",
              "      border-radius: 50%;\n",
              "      cursor: pointer;\n",
              "      display: none;\n",
              "      fill: #1967D2;\n",
              "      height: 32px;\n",
              "      padding: 0 0 0 0;\n",
              "      width: 32px;\n",
              "    }\n",
              "\n",
              "    .colab-df-convert:hover {\n",
              "      background-color: #E2EBFA;\n",
              "      box-shadow: 0px 1px 2px rgba(60, 64, 67, 0.3), 0px 1px 3px 1px rgba(60, 64, 67, 0.15);\n",
              "      fill: #174EA6;\n",
              "    }\n",
              "\n",
              "    [theme=dark] .colab-df-convert {\n",
              "      background-color: #3B4455;\n",
              "      fill: #D2E3FC;\n",
              "    }\n",
              "\n",
              "    [theme=dark] .colab-df-convert:hover {\n",
              "      background-color: #434B5C;\n",
              "      box-shadow: 0px 1px 3px 1px rgba(0, 0, 0, 0.15);\n",
              "      filter: drop-shadow(0px 1px 2px rgba(0, 0, 0, 0.3));\n",
              "      fill: #FFFFFF;\n",
              "    }\n",
              "  </style>\n",
              "\n",
              "      <script>\n",
              "        const buttonEl =\n",
              "          document.querySelector('#df-aec1b589-f64f-4c2a-80a8-52138090b49b button.colab-df-convert');\n",
              "        buttonEl.style.display =\n",
              "          google.colab.kernel.accessAllowed ? 'block' : 'none';\n",
              "\n",
              "        async function convertToInteractive(key) {\n",
              "          const element = document.querySelector('#df-aec1b589-f64f-4c2a-80a8-52138090b49b');\n",
              "          const dataTable =\n",
              "            await google.colab.kernel.invokeFunction('convertToInteractive',\n",
              "                                                     [key], {});\n",
              "          if (!dataTable) return;\n",
              "\n",
              "          const docLinkHtml = 'Like what you see? Visit the ' +\n",
              "            '<a target=\"_blank\" href=https://colab.research.google.com/notebooks/data_table.ipynb>data table notebook</a>'\n",
              "            + ' to learn more about interactive tables.';\n",
              "          element.innerHTML = '';\n",
              "          dataTable['output_type'] = 'display_data';\n",
              "          await google.colab.output.renderOutput(dataTable, element);\n",
              "          const docLink = document.createElement('div');\n",
              "          docLink.innerHTML = docLinkHtml;\n",
              "          element.appendChild(docLink);\n",
              "        }\n",
              "      </script>\n",
              "    </div>\n",
              "  </div>\n",
              "  "
            ],
            "text/plain": [
              "   PatientNumber  SliceNumber  Intraventricular  Intraparenchymal  \\\n",
              "0             49            1                 0                 0   \n",
              "1             49            2                 0                 0   \n",
              "2             49            3                 0                 0   \n",
              "3             49            4                 0                 0   \n",
              "4             49            5                 0                 0   \n",
              "\n",
              "   Subarachnoid  Epidural  Subdural  Fracture_Yes_No  Has_Hemorrhage  \n",
              "0             0         0         0                0               0  \n",
              "1             0         0         0                0               0  \n",
              "2             0         0         0                0               0  \n",
              "3             0         0         0                0               0  \n",
              "4             0         0         0                0               0  "
            ]
          },
          "execution_count": 6,
          "metadata": {},
          "output_type": "execute_result"
        }
      ],
      "source": [
        "def swap_target(x):\n",
        "    if x == 0:\n",
        "        return 1\n",
        "    else:\n",
        "        return 0\n",
        "\n",
        "# create a new target column\n",
        "df_diag['Has_Hemorrhage'] = df_diag['No_Hemorrhage'].apply(swap_target)\n",
        "\n",
        "# drop the old target column\n",
        "df_diag = df_diag.drop('No_Hemorrhage', axis=1)\n",
        "\n",
        "print(df_diag.shape)\n",
        "\n",
        "df_diag.head()"
      ]
    },
    {
      "cell_type": "code",
      "execution_count": null,
      "metadata": {
        "colab": {
          "base_uri": "https://localhost:8080/",
          "height": 270
        },
        "id": "eX6vkmZHeGOx",
        "outputId": "6e7a7229-7fa8-46e4-aecd-1b892028e57b"
      },
      "outputs": [
        {
          "data": {
            "text/html": [
              "\n",
              "  <div id=\"df-3028df9c-4db1-47b2-9ba4-c46f69958aeb\">\n",
              "    <div class=\"colab-df-container\">\n",
              "      <div>\n",
              "<style scoped>\n",
              "    .dataframe tbody tr th:only-of-type {\n",
              "        vertical-align: middle;\n",
              "    }\n",
              "\n",
              "    .dataframe tbody tr th {\n",
              "        vertical-align: top;\n",
              "    }\n",
              "\n",
              "    .dataframe thead th {\n",
              "        text-align: right;\n",
              "    }\n",
              "</style>\n",
              "<table border=\"1\" class=\"dataframe\">\n",
              "  <thead>\n",
              "    <tr style=\"text-align: right;\">\n",
              "      <th></th>\n",
              "      <th>PatientNumber</th>\n",
              "      <th>SliceNumber</th>\n",
              "      <th>Intraventricular</th>\n",
              "      <th>Intraparenchymal</th>\n",
              "      <th>Subarachnoid</th>\n",
              "      <th>Epidural</th>\n",
              "      <th>Subdural</th>\n",
              "      <th>Fracture_Yes_No</th>\n",
              "      <th>Has_Hemorrhage</th>\n",
              "      <th>mask_fname</th>\n",
              "      <th>new_mask_fname</th>\n",
              "      <th>image_fname</th>\n",
              "      <th>new_image_fname</th>\n",
              "    </tr>\n",
              "  </thead>\n",
              "  <tbody>\n",
              "    <tr>\n",
              "      <th>0</th>\n",
              "      <td>49</td>\n",
              "      <td>1</td>\n",
              "      <td>0</td>\n",
              "      <td>0</td>\n",
              "      <td>0</td>\n",
              "      <td>0</td>\n",
              "      <td>0</td>\n",
              "      <td>0</td>\n",
              "      <td>0</td>\n",
              "      <td>1_HGE_Seg.jpg</td>\n",
              "      <td>49_1_HGE_Seg.jpg</td>\n",
              "      <td>1.jpg</td>\n",
              "      <td>49_1.jpg</td>\n",
              "    </tr>\n",
              "    <tr>\n",
              "      <th>1</th>\n",
              "      <td>49</td>\n",
              "      <td>2</td>\n",
              "      <td>0</td>\n",
              "      <td>0</td>\n",
              "      <td>0</td>\n",
              "      <td>0</td>\n",
              "      <td>0</td>\n",
              "      <td>0</td>\n",
              "      <td>0</td>\n",
              "      <td>2_HGE_Seg.jpg</td>\n",
              "      <td>49_2_HGE_Seg.jpg</td>\n",
              "      <td>2.jpg</td>\n",
              "      <td>49_2.jpg</td>\n",
              "    </tr>\n",
              "    <tr>\n",
              "      <th>2</th>\n",
              "      <td>49</td>\n",
              "      <td>3</td>\n",
              "      <td>0</td>\n",
              "      <td>0</td>\n",
              "      <td>0</td>\n",
              "      <td>0</td>\n",
              "      <td>0</td>\n",
              "      <td>0</td>\n",
              "      <td>0</td>\n",
              "      <td>3_HGE_Seg.jpg</td>\n",
              "      <td>49_3_HGE_Seg.jpg</td>\n",
              "      <td>3.jpg</td>\n",
              "      <td>49_3.jpg</td>\n",
              "    </tr>\n",
              "    <tr>\n",
              "      <th>3</th>\n",
              "      <td>49</td>\n",
              "      <td>4</td>\n",
              "      <td>0</td>\n",
              "      <td>0</td>\n",
              "      <td>0</td>\n",
              "      <td>0</td>\n",
              "      <td>0</td>\n",
              "      <td>0</td>\n",
              "      <td>0</td>\n",
              "      <td>4_HGE_Seg.jpg</td>\n",
              "      <td>49_4_HGE_Seg.jpg</td>\n",
              "      <td>4.jpg</td>\n",
              "      <td>49_4.jpg</td>\n",
              "    </tr>\n",
              "    <tr>\n",
              "      <th>4</th>\n",
              "      <td>49</td>\n",
              "      <td>5</td>\n",
              "      <td>0</td>\n",
              "      <td>0</td>\n",
              "      <td>0</td>\n",
              "      <td>0</td>\n",
              "      <td>0</td>\n",
              "      <td>0</td>\n",
              "      <td>0</td>\n",
              "      <td>5_HGE_Seg.jpg</td>\n",
              "      <td>49_5_HGE_Seg.jpg</td>\n",
              "      <td>5.jpg</td>\n",
              "      <td>49_5.jpg</td>\n",
              "    </tr>\n",
              "  </tbody>\n",
              "</table>\n",
              "</div>\n",
              "      <button class=\"colab-df-convert\" onclick=\"convertToInteractive('df-3028df9c-4db1-47b2-9ba4-c46f69958aeb')\"\n",
              "              title=\"Convert this dataframe to an interactive table.\"\n",
              "              style=\"display:none;\">\n",
              "        \n",
              "  <svg xmlns=\"http://www.w3.org/2000/svg\" height=\"24px\"viewBox=\"0 0 24 24\"\n",
              "       width=\"24px\">\n",
              "    <path d=\"M0 0h24v24H0V0z\" fill=\"none\"/>\n",
              "    <path d=\"M18.56 5.44l.94 2.06.94-2.06 2.06-.94-2.06-.94-.94-2.06-.94 2.06-2.06.94zm-11 1L8.5 8.5l.94-2.06 2.06-.94-2.06-.94L8.5 2.5l-.94 2.06-2.06.94zm10 10l.94 2.06.94-2.06 2.06-.94-2.06-.94-.94-2.06-.94 2.06-2.06.94z\"/><path d=\"M17.41 7.96l-1.37-1.37c-.4-.4-.92-.59-1.43-.59-.52 0-1.04.2-1.43.59L10.3 9.45l-7.72 7.72c-.78.78-.78 2.05 0 2.83L4 21.41c.39.39.9.59 1.41.59.51 0 1.02-.2 1.41-.59l7.78-7.78 2.81-2.81c.8-.78.8-2.07 0-2.86zM5.41 20L4 18.59l7.72-7.72 1.47 1.35L5.41 20z\"/>\n",
              "  </svg>\n",
              "      </button>\n",
              "      \n",
              "  <style>\n",
              "    .colab-df-container {\n",
              "      display:flex;\n",
              "      flex-wrap:wrap;\n",
              "      gap: 12px;\n",
              "    }\n",
              "\n",
              "    .colab-df-convert {\n",
              "      background-color: #E8F0FE;\n",
              "      border: none;\n",
              "      border-radius: 50%;\n",
              "      cursor: pointer;\n",
              "      display: none;\n",
              "      fill: #1967D2;\n",
              "      height: 32px;\n",
              "      padding: 0 0 0 0;\n",
              "      width: 32px;\n",
              "    }\n",
              "\n",
              "    .colab-df-convert:hover {\n",
              "      background-color: #E2EBFA;\n",
              "      box-shadow: 0px 1px 2px rgba(60, 64, 67, 0.3), 0px 1px 3px 1px rgba(60, 64, 67, 0.15);\n",
              "      fill: #174EA6;\n",
              "    }\n",
              "\n",
              "    [theme=dark] .colab-df-convert {\n",
              "      background-color: #3B4455;\n",
              "      fill: #D2E3FC;\n",
              "    }\n",
              "\n",
              "    [theme=dark] .colab-df-convert:hover {\n",
              "      background-color: #434B5C;\n",
              "      box-shadow: 0px 1px 3px 1px rgba(0, 0, 0, 0.15);\n",
              "      filter: drop-shadow(0px 1px 2px rgba(0, 0, 0, 0.3));\n",
              "      fill: #FFFFFF;\n",
              "    }\n",
              "  </style>\n",
              "\n",
              "      <script>\n",
              "        const buttonEl =\n",
              "          document.querySelector('#df-3028df9c-4db1-47b2-9ba4-c46f69958aeb button.colab-df-convert');\n",
              "        buttonEl.style.display =\n",
              "          google.colab.kernel.accessAllowed ? 'block' : 'none';\n",
              "\n",
              "        async function convertToInteractive(key) {\n",
              "          const element = document.querySelector('#df-3028df9c-4db1-47b2-9ba4-c46f69958aeb');\n",
              "          const dataTable =\n",
              "            await google.colab.kernel.invokeFunction('convertToInteractive',\n",
              "                                                     [key], {});\n",
              "          if (!dataTable) return;\n",
              "\n",
              "          const docLinkHtml = 'Like what you see? Visit the ' +\n",
              "            '<a target=\"_blank\" href=https://colab.research.google.com/notebooks/data_table.ipynb>data table notebook</a>'\n",
              "            + ' to learn more about interactive tables.';\n",
              "          element.innerHTML = '';\n",
              "          dataTable['output_type'] = 'display_data';\n",
              "          await google.colab.output.renderOutput(dataTable, element);\n",
              "          const docLink = document.createElement('div');\n",
              "          docLink.innerHTML = docLinkHtml;\n",
              "          element.appendChild(docLink);\n",
              "        }\n",
              "      </script>\n",
              "    </div>\n",
              "  </div>\n",
              "  "
            ],
            "text/plain": [
              "   PatientNumber  SliceNumber  Intraventricular  Intraparenchymal  \\\n",
              "0             49            1                 0                 0   \n",
              "1             49            2                 0                 0   \n",
              "2             49            3                 0                 0   \n",
              "3             49            4                 0                 0   \n",
              "4             49            5                 0                 0   \n",
              "\n",
              "   Subarachnoid  Epidural  Subdural  Fracture_Yes_No  Has_Hemorrhage  \\\n",
              "0             0         0         0                0               0   \n",
              "1             0         0         0                0               0   \n",
              "2             0         0         0                0               0   \n",
              "3             0         0         0                0               0   \n",
              "4             0         0         0                0               0   \n",
              "\n",
              "      mask_fname    new_mask_fname image_fname new_image_fname  \n",
              "0  1_HGE_Seg.jpg  49_1_HGE_Seg.jpg       1.jpg        49_1.jpg  \n",
              "1  2_HGE_Seg.jpg  49_2_HGE_Seg.jpg       2.jpg        49_2.jpg  \n",
              "2  3_HGE_Seg.jpg  49_3_HGE_Seg.jpg       3.jpg        49_3.jpg  \n",
              "3  4_HGE_Seg.jpg  49_4_HGE_Seg.jpg       4.jpg        49_4.jpg  \n",
              "4  5_HGE_Seg.jpg  49_5_HGE_Seg.jpg       5.jpg        49_5.jpg  "
            ]
          },
          "execution_count": 7,
          "metadata": {},
          "output_type": "execute_result"
        }
      ],
      "source": [
        "# Create new columns\n",
        "\n",
        "\n",
        "def get_mask_fname(row):\n",
        "        \n",
        "    mask_id = str(row['SliceNumber']) + '_HGE_Seg.jpg'\n",
        "    return mask_id\n",
        "    \n",
        "\n",
        "# create a new column with mask file names\n",
        "df_diag['mask_fname'] = df_diag.apply(get_mask_fname, axis=1)\n",
        "\n",
        "\n",
        "\n",
        "\n",
        "def new_mask_fname(row):\n",
        "        \n",
        "    mask_id = str(row['PatientNumber']) + '_' + str(row['SliceNumber']) + '_HGE_Seg.jpg'\n",
        "    return mask_id\n",
        "\n",
        "\n",
        "# create a new column with a new mask file names\n",
        "df_diag['new_mask_fname'] = df_diag.apply(new_mask_fname, axis=1)\n",
        "\n",
        "\n",
        "\n",
        "\n",
        "def assign_image_fname(row):\n",
        "    \n",
        "    image_fname = str(row['SliceNumber']) + '.jpg'\n",
        "    \n",
        "    return image_fname\n",
        "\n",
        "\n",
        "# create a new column with image file names\n",
        "df_diag['image_fname'] = df_diag.apply(assign_image_fname, axis=1)\n",
        "\n",
        "\n",
        "\n",
        "def assign_new_fname(row):\n",
        "         \n",
        "    mask_id = str(row['PatientNumber']) + '_' + str(row['SliceNumber']) + '.jpg'\n",
        "    \n",
        "    return mask_id\n",
        "    \n",
        "# create a new column with new image file names\n",
        "df_diag['new_image_fname'] = df_diag.apply(assign_new_fname, axis=1)\n",
        "\n",
        "\n",
        "\n",
        "df_diag.head()"
      ]
    },
    {
      "cell_type": "markdown",
      "metadata": {
        "id": "gYssh0XHeNUy"
      },
      "source": [
        "**Image Folder**"
      ]
    },
    {
      "cell_type": "code",
      "execution_count": null,
      "metadata": {
        "colab": {
          "base_uri": "https://localhost:8080/"
        },
        "id": "bzD6rltfePEq",
        "outputId": "16e7d925-7507-44e0-c152-cb3509f7a7a2"
      },
      "outputs": [
        {
          "data": {
            "text/plain": [
              "82"
            ]
          },
          "execution_count": 8,
          "metadata": {},
          "output_type": "execute_result"
        }
      ],
      "source": [
        "path = 'Patients_CT'\n",
        "\n",
        "folder_list = os.listdir(path)\n",
        "\n",
        "len(folder_list)"
      ]
    },
    {
      "cell_type": "code",
      "execution_count": null,
      "metadata": {
        "id": "IiZIaFqJe7kD"
      },
      "outputs": [],
      "source": [
        "NUM_TEST_IMAGES = 100\n",
        "\n",
        "\n",
        "# get 10 images without hemorrhages\n",
        "\n",
        "df = df_diag[df_diag['Has_Hemorrhage'] == 0]\n",
        "\n",
        "df_no_hem = df.sample(NUM_TEST_IMAGES, random_state=101)\n",
        "\n",
        "# Reset the index.\n",
        "df_no_hem = df_no_hem.reset_index(drop=True)\n",
        "\n",
        "# create a list of images\n",
        "test_images_list = list(df_no_hem['new_mask_fname'])\n",
        "\n",
        "\n",
        "# Select only rows that are not part of the test set.\n",
        "# Note the use of ~ to execute 'not in'.\n",
        "df_diag = df_diag[~df_diag['new_mask_fname'].isin(test_images_list)]\n",
        "\n",
        "\n",
        "# get 10 images with hemorrhages\n",
        "\n",
        "df = df_diag[df_diag['Has_Hemorrhage'] == 1]\n",
        "\n",
        "df_with_hem = df.sample(NUM_TEST_IMAGES, random_state=102)\n",
        "\n",
        "# Reset the index.\n",
        "df_with_hem = df_with_hem.reset_index(drop=True)\n",
        "\n",
        "# create a list of images\n",
        "test_images_list = list(df_with_hem['new_mask_fname'])\n",
        "\n",
        "\n",
        "# Select only rows that are not part of the test set.\n",
        "# Note the use of ~ to execute 'not in'.\n",
        "df_diag = df_diag[~df_diag['new_mask_fname'].isin(test_images_list)]\n",
        "\n",
        "\n",
        "# create the test set\n",
        "df_test = pd.concat([df_with_hem, df_no_hem], axis=0).reset_index(drop=True)"
      ]
    },
    {
      "cell_type": "code",
      "execution_count": null,
      "metadata": {
        "colab": {
          "base_uri": "https://localhost:8080/"
        },
        "id": "J1koHfVyfErC",
        "outputId": "d40fdd81-e858-47c4-97e5-62e1dd4be589"
      },
      "outputs": [
        {
          "name": "stdout",
          "output_type": "stream",
          "text": [
            "(2301, 13)\n",
            "(200, 13)\n"
          ]
        }
      ],
      "source": [
        "print(df_diag.shape)\n",
        "print(df_test.shape)"
      ]
    },
    {
      "cell_type": "code",
      "execution_count": null,
      "metadata": {
        "colab": {
          "base_uri": "https://localhost:8080/"
        },
        "id": "dyX_wev5fHkS",
        "outputId": "bf829a42-76f7-484f-d498-b4ec7a61b079"
      },
      "outputs": [
        {
          "name": "stdout",
          "output_type": "stream",
          "text": [
            "(1955, 13)\n",
            "(346, 13)\n"
          ]
        }
      ],
      "source": [
        "# train_test_split\n",
        "\n",
        "\n",
        "# shuffle\n",
        "df_diag = shuffle(df_diag)\n",
        "\n",
        "# reset the index\n",
        "df_diag = df_diag.reset_index(drop=True)\n",
        "\n",
        "# We will stratify by target\n",
        "y = df_diag['Has_Hemorrhage']\n",
        "\n",
        "df_train, df_val = train_test_split(df_diag, test_size=0.15, random_state=107, stratify=y)\n",
        "\n",
        "print(df_train.shape)\n",
        "print(df_val.shape)"
      ]
    },
    {
      "cell_type": "code",
      "execution_count": null,
      "metadata": {
        "id": "-QCwYtN2fOKl"
      },
      "outputs": [],
      "source": [
        "df_diag.to_csv('df_data.csv.gz', compression='gzip', index=False)\n",
        "\n",
        "df_train.to_csv('df_train.csv.gz', compression='gzip', index=False)\n",
        "df_val.to_csv('df_val.csv.gz', compression='gzip', index=False)\n",
        "\n",
        "df_test.to_csv('df_test.csv.gz', compression='gzip', index=False)"
      ]
    },
    {
      "cell_type": "code",
      "execution_count": null,
      "metadata": {
        "id": "Wv1gCajafPi5"
      },
      "outputs": [],
      "source": [
        "# Function to perform the augmentations\n",
        "\n",
        "def augment_image_and_mask(augmentation, image, mask):\n",
        "    \n",
        "    \"\"\"\n",
        " \n",
        "    Uses the Albumentations library.\n",
        "    \n",
        "    Inputs: \n",
        "    1. augmentation - this is the instance of type of augmentation to do \n",
        "    e.g. aug_type = HorizontalFlip(p=1) \n",
        "    # p=1 is the probability of the transform being executed.\n",
        "    \n",
        "    2. image - image with shape (h,w)\n",
        "    3. mask - mask with shape (h,w)\n",
        "    \n",
        "    Output:\n",
        "    Augmented image as a numpy array.\n",
        "    Augmented mask as a numpy array.\n",
        "    \n",
        "    \"\"\"\n",
        "    # get the transform as a dict\n",
        "    aug_image_dict =  augmentation(image=image, mask=mask)\n",
        "    # retrieve the augmented matrix of the image\n",
        "    image_matrix = aug_image_dict['image']\n",
        "    \n",
        "    mask_matrix = aug_image_dict['mask']\n",
        "    \n",
        "    return image_matrix, mask_matrix"
      ]
    },
    {
      "cell_type": "code",
      "execution_count": null,
      "metadata": {
        "id": "H_xVtzQRgLSS"
      },
      "outputs": [],
      "source": [
        "# HOW TO DO MULTIPLE AUGMENTATIONS\n",
        "\n",
        "import albumentations as albu\n",
        "\n",
        "# Define the augmentations\n",
        "\n",
        "aug_types = albu.Compose([\n",
        "    albu.HorizontalFlip(p=0.5),\n",
        "    albu.OneOf([\n",
        "        albu.RandomContrast(),\n",
        "        albu.RandomGamma(),\n",
        "        albu.RandomBrightness(),\n",
        "        ], p=0.3),\n",
        "    albu.OneOf([\n",
        "        albu.ElasticTransform(alpha=120, sigma=120 * 0.05, alpha_affine=120 * 0.03),\n",
        "        albu.GridDistortion(),\n",
        "        albu.OpticalDistortion(distort_limit=2, shift_limit=0.5),\n",
        "        ], p=0.3),\n",
        "    albu.ShiftScaleRotate(scale_limit=0.1, rotate_limit=10, shift_limit=0.1, p=0.5, border_mode=0),\n",
        "])\n"
      ]
    },
    {
      "cell_type": "code",
      "execution_count": null,
      "metadata": {
        "id": "hl2e4x8nffn9"
      },
      "outputs": [],
      "source": [
        "IMAGE_HEIGHT_ORIG = 650\n",
        "IMAGE_WIDTH_ORIG = 650\n",
        "\n",
        "NUM_TEST_IMAGES = 10 # 10 with intracranial hem + 10 without intracranial hem\n",
        "\n",
        "IMAGE_HEIGHT = 256\n",
        "IMAGE_WIDTH = 256\n",
        "IMAGE_CHANNELS = 3\n",
        "\n",
        "BATCH_SIZE = 10"
      ]
    },
    {
      "cell_type": "code",
      "execution_count": null,
      "metadata": {
        "colab": {
          "base_uri": "https://localhost:8080/",
          "height": 427
        },
        "id": "l0ff4C9XfkiB",
        "outputId": "3ab4959a-586f-448b-a957-9b97e46409f6"
      },
      "outputs": [
        {
          "data": {
            "text/html": [
              "\n",
              "  <div id=\"df-86fc22ac-a25e-4de7-9b16-de346f15048b\">\n",
              "    <div class=\"colab-df-container\">\n",
              "      <div>\n",
              "<style scoped>\n",
              "    .dataframe tbody tr th:only-of-type {\n",
              "        vertical-align: middle;\n",
              "    }\n",
              "\n",
              "    .dataframe tbody tr th {\n",
              "        vertical-align: top;\n",
              "    }\n",
              "\n",
              "    .dataframe thead th {\n",
              "        text-align: right;\n",
              "    }\n",
              "</style>\n",
              "<table border=\"1\" class=\"dataframe\">\n",
              "  <thead>\n",
              "    <tr style=\"text-align: right;\">\n",
              "      <th></th>\n",
              "      <th>PatientNumber</th>\n",
              "      <th>SliceNumber</th>\n",
              "      <th>Intraventricular</th>\n",
              "      <th>Intraparenchymal</th>\n",
              "      <th>Subarachnoid</th>\n",
              "      <th>Epidural</th>\n",
              "      <th>Subdural</th>\n",
              "      <th>Fracture_Yes_No</th>\n",
              "      <th>Has_Hemorrhage</th>\n",
              "      <th>mask_fname</th>\n",
              "      <th>new_mask_fname</th>\n",
              "      <th>image_fname</th>\n",
              "      <th>new_image_fname</th>\n",
              "    </tr>\n",
              "  </thead>\n",
              "  <tbody>\n",
              "    <tr>\n",
              "      <th>189</th>\n",
              "      <td>101</td>\n",
              "      <td>28</td>\n",
              "      <td>0</td>\n",
              "      <td>0</td>\n",
              "      <td>0</td>\n",
              "      <td>0</td>\n",
              "      <td>0</td>\n",
              "      <td>0</td>\n",
              "      <td>0</td>\n",
              "      <td>28_HGE_Seg.jpg</td>\n",
              "      <td>101_28_HGE_Seg.jpg</td>\n",
              "      <td>28.jpg</td>\n",
              "      <td>101_28.jpg</td>\n",
              "    </tr>\n",
              "    <tr>\n",
              "      <th>807</th>\n",
              "      <td>68</td>\n",
              "      <td>26</td>\n",
              "      <td>0</td>\n",
              "      <td>0</td>\n",
              "      <td>0</td>\n",
              "      <td>0</td>\n",
              "      <td>0</td>\n",
              "      <td>1</td>\n",
              "      <td>0</td>\n",
              "      <td>26_HGE_Seg.jpg</td>\n",
              "      <td>68_26_HGE_Seg.jpg</td>\n",
              "      <td>26.jpg</td>\n",
              "      <td>68_26.jpg</td>\n",
              "    </tr>\n",
              "    <tr>\n",
              "      <th>2036</th>\n",
              "      <td>125</td>\n",
              "      <td>38</td>\n",
              "      <td>0</td>\n",
              "      <td>0</td>\n",
              "      <td>0</td>\n",
              "      <td>0</td>\n",
              "      <td>0</td>\n",
              "      <td>0</td>\n",
              "      <td>0</td>\n",
              "      <td>38_HGE_Seg.jpg</td>\n",
              "      <td>125_38_HGE_Seg.jpg</td>\n",
              "      <td>38.jpg</td>\n",
              "      <td>125_38.jpg</td>\n",
              "    </tr>\n",
              "    <tr>\n",
              "      <th>1969</th>\n",
              "      <td>129</td>\n",
              "      <td>30</td>\n",
              "      <td>0</td>\n",
              "      <td>0</td>\n",
              "      <td>0</td>\n",
              "      <td>0</td>\n",
              "      <td>0</td>\n",
              "      <td>0</td>\n",
              "      <td>0</td>\n",
              "      <td>30_HGE_Seg.jpg</td>\n",
              "      <td>129_30_HGE_Seg.jpg</td>\n",
              "      <td>30.jpg</td>\n",
              "      <td>129_30.jpg</td>\n",
              "    </tr>\n",
              "    <tr>\n",
              "      <th>1544</th>\n",
              "      <td>82</td>\n",
              "      <td>5</td>\n",
              "      <td>0</td>\n",
              "      <td>0</td>\n",
              "      <td>0</td>\n",
              "      <td>0</td>\n",
              "      <td>0</td>\n",
              "      <td>0</td>\n",
              "      <td>0</td>\n",
              "      <td>5_HGE_Seg.jpg</td>\n",
              "      <td>82_5_HGE_Seg.jpg</td>\n",
              "      <td>5.jpg</td>\n",
              "      <td>82_5.jpg</td>\n",
              "    </tr>\n",
              "    <tr>\n",
              "      <th>37</th>\n",
              "      <td>129</td>\n",
              "      <td>17</td>\n",
              "      <td>0</td>\n",
              "      <td>0</td>\n",
              "      <td>0</td>\n",
              "      <td>0</td>\n",
              "      <td>0</td>\n",
              "      <td>0</td>\n",
              "      <td>0</td>\n",
              "      <td>17_HGE_Seg.jpg</td>\n",
              "      <td>129_17_HGE_Seg.jpg</td>\n",
              "      <td>17.jpg</td>\n",
              "      <td>129_17.jpg</td>\n",
              "    </tr>\n",
              "    <tr>\n",
              "      <th>314</th>\n",
              "      <td>129</td>\n",
              "      <td>28</td>\n",
              "      <td>0</td>\n",
              "      <td>0</td>\n",
              "      <td>0</td>\n",
              "      <td>0</td>\n",
              "      <td>0</td>\n",
              "      <td>0</td>\n",
              "      <td>0</td>\n",
              "      <td>28_HGE_Seg.jpg</td>\n",
              "      <td>129_28_HGE_Seg.jpg</td>\n",
              "      <td>28.jpg</td>\n",
              "      <td>129_28.jpg</td>\n",
              "    </tr>\n",
              "    <tr>\n",
              "      <th>361</th>\n",
              "      <td>127</td>\n",
              "      <td>21</td>\n",
              "      <td>0</td>\n",
              "      <td>0</td>\n",
              "      <td>0</td>\n",
              "      <td>0</td>\n",
              "      <td>0</td>\n",
              "      <td>0</td>\n",
              "      <td>0</td>\n",
              "      <td>21_HGE_Seg.jpg</td>\n",
              "      <td>127_21_HGE_Seg.jpg</td>\n",
              "      <td>21.jpg</td>\n",
              "      <td>127_21.jpg</td>\n",
              "    </tr>\n",
              "    <tr>\n",
              "      <th>1496</th>\n",
              "      <td>129</td>\n",
              "      <td>19</td>\n",
              "      <td>0</td>\n",
              "      <td>0</td>\n",
              "      <td>0</td>\n",
              "      <td>0</td>\n",
              "      <td>0</td>\n",
              "      <td>0</td>\n",
              "      <td>0</td>\n",
              "      <td>19_HGE_Seg.jpg</td>\n",
              "      <td>129_19_HGE_Seg.jpg</td>\n",
              "      <td>19.jpg</td>\n",
              "      <td>129_19.jpg</td>\n",
              "    </tr>\n",
              "    <tr>\n",
              "      <th>962</th>\n",
              "      <td>128</td>\n",
              "      <td>9</td>\n",
              "      <td>0</td>\n",
              "      <td>0</td>\n",
              "      <td>0</td>\n",
              "      <td>0</td>\n",
              "      <td>0</td>\n",
              "      <td>0</td>\n",
              "      <td>0</td>\n",
              "      <td>9_HGE_Seg.jpg</td>\n",
              "      <td>128_9_HGE_Seg.jpg</td>\n",
              "      <td>9.jpg</td>\n",
              "      <td>128_9.jpg</td>\n",
              "    </tr>\n",
              "  </tbody>\n",
              "</table>\n",
              "</div>\n",
              "      <button class=\"colab-df-convert\" onclick=\"convertToInteractive('df-86fc22ac-a25e-4de7-9b16-de346f15048b')\"\n",
              "              title=\"Convert this dataframe to an interactive table.\"\n",
              "              style=\"display:none;\">\n",
              "        \n",
              "  <svg xmlns=\"http://www.w3.org/2000/svg\" height=\"24px\"viewBox=\"0 0 24 24\"\n",
              "       width=\"24px\">\n",
              "    <path d=\"M0 0h24v24H0V0z\" fill=\"none\"/>\n",
              "    <path d=\"M18.56 5.44l.94 2.06.94-2.06 2.06-.94-2.06-.94-.94-2.06-.94 2.06-2.06.94zm-11 1L8.5 8.5l.94-2.06 2.06-.94-2.06-.94L8.5 2.5l-.94 2.06-2.06.94zm10 10l.94 2.06.94-2.06 2.06-.94-2.06-.94-.94-2.06-.94 2.06-2.06.94z\"/><path d=\"M17.41 7.96l-1.37-1.37c-.4-.4-.92-.59-1.43-.59-.52 0-1.04.2-1.43.59L10.3 9.45l-7.72 7.72c-.78.78-.78 2.05 0 2.83L4 21.41c.39.39.9.59 1.41.59.51 0 1.02-.2 1.41-.59l7.78-7.78 2.81-2.81c.8-.78.8-2.07 0-2.86zM5.41 20L4 18.59l7.72-7.72 1.47 1.35L5.41 20z\"/>\n",
              "  </svg>\n",
              "      </button>\n",
              "      \n",
              "  <style>\n",
              "    .colab-df-container {\n",
              "      display:flex;\n",
              "      flex-wrap:wrap;\n",
              "      gap: 12px;\n",
              "    }\n",
              "\n",
              "    .colab-df-convert {\n",
              "      background-color: #E8F0FE;\n",
              "      border: none;\n",
              "      border-radius: 50%;\n",
              "      cursor: pointer;\n",
              "      display: none;\n",
              "      fill: #1967D2;\n",
              "      height: 32px;\n",
              "      padding: 0 0 0 0;\n",
              "      width: 32px;\n",
              "    }\n",
              "\n",
              "    .colab-df-convert:hover {\n",
              "      background-color: #E2EBFA;\n",
              "      box-shadow: 0px 1px 2px rgba(60, 64, 67, 0.3), 0px 1px 3px 1px rgba(60, 64, 67, 0.15);\n",
              "      fill: #174EA6;\n",
              "    }\n",
              "\n",
              "    [theme=dark] .colab-df-convert {\n",
              "      background-color: #3B4455;\n",
              "      fill: #D2E3FC;\n",
              "    }\n",
              "\n",
              "    [theme=dark] .colab-df-convert:hover {\n",
              "      background-color: #434B5C;\n",
              "      box-shadow: 0px 1px 3px 1px rgba(0, 0, 0, 0.15);\n",
              "      filter: drop-shadow(0px 1px 2px rgba(0, 0, 0, 0.3));\n",
              "      fill: #FFFFFF;\n",
              "    }\n",
              "  </style>\n",
              "\n",
              "      <script>\n",
              "        const buttonEl =\n",
              "          document.querySelector('#df-86fc22ac-a25e-4de7-9b16-de346f15048b button.colab-df-convert');\n",
              "        buttonEl.style.display =\n",
              "          google.colab.kernel.accessAllowed ? 'block' : 'none';\n",
              "\n",
              "        async function convertToInteractive(key) {\n",
              "          const element = document.querySelector('#df-86fc22ac-a25e-4de7-9b16-de346f15048b');\n",
              "          const dataTable =\n",
              "            await google.colab.kernel.invokeFunction('convertToInteractive',\n",
              "                                                     [key], {});\n",
              "          if (!dataTable) return;\n",
              "\n",
              "          const docLinkHtml = 'Like what you see? Visit the ' +\n",
              "            '<a target=\"_blank\" href=https://colab.research.google.com/notebooks/data_table.ipynb>data table notebook</a>'\n",
              "            + ' to learn more about interactive tables.';\n",
              "          element.innerHTML = '';\n",
              "          dataTable['output_type'] = 'display_data';\n",
              "          await google.colab.output.renderOutput(dataTable, element);\n",
              "          const docLink = document.createElement('div');\n",
              "          docLink.innerHTML = docLinkHtml;\n",
              "          element.appendChild(docLink);\n",
              "        }\n",
              "      </script>\n",
              "    </div>\n",
              "  </div>\n",
              "  "
            ],
            "text/plain": [
              "      PatientNumber  SliceNumber  Intraventricular  Intraparenchymal  \\\n",
              "189             101           28                 0                 0   \n",
              "807              68           26                 0                 0   \n",
              "2036            125           38                 0                 0   \n",
              "1969            129           30                 0                 0   \n",
              "1544             82            5                 0                 0   \n",
              "37              129           17                 0                 0   \n",
              "314             129           28                 0                 0   \n",
              "361             127           21                 0                 0   \n",
              "1496            129           19                 0                 0   \n",
              "962             128            9                 0                 0   \n",
              "\n",
              "      Subarachnoid  Epidural  Subdural  Fracture_Yes_No  Has_Hemorrhage  \\\n",
              "189              0         0         0                0               0   \n",
              "807              0         0         0                1               0   \n",
              "2036             0         0         0                0               0   \n",
              "1969             0         0         0                0               0   \n",
              "1544             0         0         0                0               0   \n",
              "37               0         0         0                0               0   \n",
              "314              0         0         0                0               0   \n",
              "361              0         0         0                0               0   \n",
              "1496             0         0         0                0               0   \n",
              "962              0         0         0                0               0   \n",
              "\n",
              "          mask_fname      new_mask_fname image_fname new_image_fname  \n",
              "189   28_HGE_Seg.jpg  101_28_HGE_Seg.jpg      28.jpg      101_28.jpg  \n",
              "807   26_HGE_Seg.jpg   68_26_HGE_Seg.jpg      26.jpg       68_26.jpg  \n",
              "2036  38_HGE_Seg.jpg  125_38_HGE_Seg.jpg      38.jpg      125_38.jpg  \n",
              "1969  30_HGE_Seg.jpg  129_30_HGE_Seg.jpg      30.jpg      129_30.jpg  \n",
              "1544   5_HGE_Seg.jpg    82_5_HGE_Seg.jpg       5.jpg        82_5.jpg  \n",
              "37    17_HGE_Seg.jpg  129_17_HGE_Seg.jpg      17.jpg      129_17.jpg  \n",
              "314   28_HGE_Seg.jpg  129_28_HGE_Seg.jpg      28.jpg      129_28.jpg  \n",
              "361   21_HGE_Seg.jpg  127_21_HGE_Seg.jpg      21.jpg      127_21.jpg  \n",
              "1496  19_HGE_Seg.jpg  129_19_HGE_Seg.jpg      19.jpg      129_19.jpg  \n",
              "962    9_HGE_Seg.jpg   128_9_HGE_Seg.jpg       9.jpg       128_9.jpg  "
            ]
          },
          "execution_count": 16,
          "metadata": {},
          "output_type": "execute_result"
        }
      ],
      "source": [
        "df_train.head(10)"
      ]
    },
    {
      "cell_type": "code",
      "execution_count": null,
      "metadata": {
        "id": "03ieOD24flki"
      },
      "outputs": [],
      "source": [
        "# We are only using brain images for training.\n",
        "# These are originally single channel images but cv2 will read them with 3 channels.\n",
        "\n",
        "import cv2\n",
        "\n",
        "def train_generator(batch_size=10):\n",
        "    \n",
        "    while True:\n",
        "        \n",
        "        # load the data in chunks (batches)\n",
        "        for df in pd.read_csv('df_train.csv.gz', chunksize=batch_size):\n",
        "            \n",
        "            # get the list of images\n",
        "            image_id_list = list(df['new_image_fname'])\n",
        "            mask_id_list = list(df['new_mask_fname'])\n",
        "            #lbl_list = list(df['Has_Hemorrhage'])\n",
        "            \n",
        "            labels = np.zeros(len(df), dtype=np.uint8)\n",
        "            # Create empty X matrix - 3 channels\n",
        "            X_train = np.zeros((len(df), IMAGE_HEIGHT, IMAGE_WIDTH, IMAGE_CHANNELS), dtype=np.uint8)\n",
        "            \n",
        "            # create empty Y matrix - 1 channel\n",
        "            #Y_train = np.zeros((len(df), IMAGE_HEIGHT, IMAGE_WIDTH, 1), dtype=np.bool)\n",
        "            Y_train = np.zeros((len(df), IMAGE_HEIGHT, IMAGE_WIDTH, 1), dtype=np.float32)\n",
        "\n",
        "        \n",
        "            \n",
        "            # Create X_train\n",
        "            #================\n",
        "            \n",
        "            for i in range(0, len(image_id_list)):\n",
        "              \n",
        "              \n",
        "                # get the image and mask\n",
        "                image_id = image_id_list[i]\n",
        "                mask_id = mask_id_list[i]\n",
        "                #lbl = lbl_list[i]\n",
        "\n",
        "                # set the path to the image\n",
        "                path = 'brain_image_dir/' + image_id\n",
        "\n",
        "                # read the image\n",
        "                image = cv2.imread(path)\n",
        "                \n",
        "                # convert to from BGR to RGB\n",
        "                image = cv2.cvtColor(image, cv2.COLOR_BGR2RGB)\n",
        "                \n",
        "                # resize the image\n",
        "                image = cv2.resize(image, (IMAGE_HEIGHT, IMAGE_WIDTH))\n",
        "                \n",
        "                \n",
        "            \n",
        "            \n",
        "            # Create Y_train\n",
        "            # ===============\n",
        "                \n",
        " \n",
        "\n",
        "                # set the path to the mask\n",
        "                path = 'mask_dir/' + mask_id\n",
        "\n",
        "                # read the mask\n",
        "                mask = cv2.imread(path, cv2.IMREAD_UNCHANGED)\n",
        "                \n",
        "                # resize the mask\n",
        "                mask = cv2.resize(mask, (IMAGE_HEIGHT, IMAGE_WIDTH))\n",
        "                \n",
        "                # expand dims from (800,600) to (800,600,1)\n",
        "                mask = np.expand_dims(mask, axis=-1)\n",
        "         \n",
        "                \n",
        "                \n",
        "              \n",
        "              \n",
        "              \n",
        "            # Augment the image and mask\n",
        "            # ===========================\n",
        "            \n",
        "                aug_image, aug_mask = augment_image_and_mask(aug_types, image, mask)\n",
        "              \n",
        "                # insert the image into X_train\n",
        "                X_train[i] = aug_image\n",
        "                \n",
        "                # insert the image into Y_train\n",
        "                Y_train[i] = aug_mask\n",
        "\n",
        "                #labels[i] = lbl\n",
        "                \n",
        "                              \n",
        "                \n",
        "            # Normalize the images\n",
        "            X_train = X_train/255\n",
        "            Y_train = Y_train/255\n",
        "            #labels = np.asarray(labels).astype('float32').reshape((-1,1))\n",
        "            #labels = tf.one_hot(labels, depth=2)\n",
        "\n",
        "            yield X_train, Y_train"
      ]
    },
    {
      "cell_type": "code",
      "execution_count": null,
      "metadata": {
        "colab": {
          "base_uri": "https://localhost:8080/"
        },
        "id": "5QI-zoOXfxQh",
        "outputId": "604da24c-d8f5-420f-d3e8-dd91421edb15"
      },
      "outputs": [
        {
          "name": "stdout",
          "output_type": "stream",
          "text": [
            "<generator object train_generator at 0x7fb0e2294d50>\n",
            "10\n",
            "(10, 256, 256, 3)\n",
            "(10, 256, 256, 1)\n"
          ]
        }
      ],
      "source": [
        "# Test the generator\n",
        "\n",
        "# initialize\n",
        "train_gen = train_generator(batch_size=10)\n",
        "print(train_gen)\n",
        "\n",
        "# run the generator\n",
        "X_train, Y_train = next(train_gen)\n",
        "\n",
        "print(len(X_train))\n",
        "\n",
        "print(X_train.shape)\n",
        "print(Y_train.shape)\n",
        "#print(labels.shape)"
      ]
    },
    {
      "cell_type": "code",
      "execution_count": null,
      "metadata": {
        "id": "9knhvPf5gWAp"
      },
      "outputs": [],
      "source": [
        "def val_generator(batch_size=10):\n",
        "    \n",
        "    while True:\n",
        "        \n",
        "        # load the data in chunks (batches)\n",
        "        for df in pd.read_csv('df_val.csv.gz', chunksize=batch_size):\n",
        "            \n",
        "            # get the list of images\n",
        "            image_id_list = list(df['new_image_fname'])\n",
        "            mask_id_list = list(df['new_mask_fname'])\n",
        "            #lbl_list = list(df['Has_Hemorrhage'])\n",
        "            \n",
        "            val_labels = np.zeros(len(df), dtype=np.uint8)\n",
        "            # Create empty X matrix - 3 channels\n",
        "            X_val = np.zeros((len(df), IMAGE_HEIGHT, IMAGE_WIDTH, IMAGE_CHANNELS), dtype=np.uint8)\n",
        "            \n",
        "            # create empty Y matrix - 1 channel\n",
        "            Y_val = np.zeros((len(df), IMAGE_HEIGHT, IMAGE_WIDTH, 1), dtype=np.float32)\n",
        "\n",
        "        \n",
        "            \n",
        "            # Create X_val\n",
        "            #================\n",
        "            \n",
        "            for i, image_id in enumerate(image_id_list):\n",
        "                \n",
        "\n",
        "                # set the path to the image\n",
        "                path = 'brain_image_dir/' + image_id\n",
        "\n",
        "                # read the image\n",
        "                image = cv2.imread(path)\n",
        "                \n",
        "                # convert to from BGR to RGB\n",
        "                image = cv2.cvtColor(image, cv2.COLOR_BGR2RGB)\n",
        "                \n",
        "                # resize the image\n",
        "                image = cv2.resize(image, (IMAGE_HEIGHT, IMAGE_WIDTH))\n",
        "                \n",
        "                # insert the image into X_train\n",
        "                X_val[i] = image\n",
        "                #lbl = lbl_list[i]\n",
        "            \n",
        "            \n",
        "            # Create Y_val\n",
        "            # ===============\n",
        "                \n",
        "            for j, mask_id in enumerate(mask_id_list):\n",
        "\n",
        "                # set the path to the mask\n",
        "                path = 'mask_dir/' + mask_id\n",
        "\n",
        "                # read the mask\n",
        "                mask = cv2.imread(path, cv2.IMREAD_UNCHANGED)\n",
        "                \n",
        "                # resize the mask\n",
        "                mask = cv2.resize(mask, (IMAGE_HEIGHT, IMAGE_WIDTH))\n",
        "                \n",
        "                # expand dims from (800,600) to (800,600,1)\n",
        "                mask = np.expand_dims(mask, axis=-1)\n",
        "                \n",
        "                \n",
        "                \n",
        "                \n",
        "                # insert the image into Y_train\n",
        "                Y_val[j] = mask\n",
        "                #val_labels[j] = lbl\n",
        "                \n",
        "            \n",
        "            # Normalize the images\n",
        "            X_val = X_val/255\n",
        "            Y_val = Y_val/255\n",
        "            #val_labels = np.asarray(val_labels).astype('float32').reshape((-1,1))\n",
        "            \n",
        "            yield X_val, Y_val"
      ]
    },
    {
      "cell_type": "code",
      "execution_count": null,
      "metadata": {
        "colab": {
          "base_uri": "https://localhost:8080/"
        },
        "id": "1tXzwbaTgY1U",
        "outputId": "5b7f1c12-ef3e-4834-8f33-a3fd5b45ce3d"
      },
      "outputs": [
        {
          "name": "stdout",
          "output_type": "stream",
          "text": [
            "(10, 256, 256, 3)\n",
            "(10, 256, 256, 1)\n"
          ]
        }
      ],
      "source": [
        "# Test the generator\n",
        "\n",
        "# initialize\n",
        "val_gen = val_generator(batch_size=10)\n",
        "\n",
        "# run the generator\n",
        "X_val, Y_val = next(val_gen)\n",
        "\n",
        "print(X_val.shape)\n",
        "print(Y_val.shape)\n",
        "#print(val_labels.shape)"
      ]
    },
    {
      "cell_type": "code",
      "execution_count": null,
      "metadata": {
        "id": "PwtHfuzGgcQp"
      },
      "outputs": [],
      "source": [
        "def test_generator(batch_size=1):\n",
        "    \n",
        "    while True:\n",
        "        \n",
        "        # load the data in chunks (batches)\n",
        "        for df in pd.read_csv('df_test.csv.gz', chunksize=batch_size):\n",
        "            \n",
        "            # get the list of images\n",
        "            image_id_list = list(df['new_image_fname'])\n",
        "            mask_id_list = list(df['new_mask_fname'])\n",
        "            \n",
        "            # Create empty X matrix - 3 channels\n",
        "            X_test = np.zeros((len(df), IMAGE_HEIGHT, IMAGE_WIDTH, IMAGE_CHANNELS), dtype=np.uint8)\n",
        "            \n",
        "            # create empty Y matrix - 1 channel\n",
        "            #Y_test = np.zeros((len(df), IMAGE_HEIGHT, IMAGE_WIDTH, 1), dtype=np.bool)\n",
        "            Y_test = np.zeros((len(df), IMAGE_HEIGHT, IMAGE_WIDTH, 1), dtype=np.float32)\n",
        "            \n",
        "            \n",
        "\n",
        "\n",
        "            \n",
        "            # Create X_test\n",
        "            #================\n",
        "            \n",
        "            for i, image_id in enumerate(image_id_list):\n",
        "                \n",
        "\n",
        "                # set the path to the image\n",
        "                path = 'brain_image_dir/' + image_id\n",
        "\n",
        "                # read the image\n",
        "                image = cv2.imread(path)\n",
        "           \n",
        "                \n",
        "                # convert to from BGR to RGB\n",
        "                image = cv2.cvtColor(image, cv2.COLOR_BGR2RGB)\n",
        "                \n",
        "                # resize the image\n",
        "                image = cv2.resize(image, (IMAGE_HEIGHT, IMAGE_WIDTH))\n",
        "                \n",
        "                # insert the image into X_train\n",
        "                X_test[i] = image\n",
        "                \n",
        "             \n",
        "            # Create Y_test\n",
        "            # ===============\n",
        "                \n",
        "            for j, mask_id in enumerate(mask_id_list):\n",
        "\n",
        "                # set the path to the mask\n",
        "                path = 'mask_dir/' + mask_id\n",
        "\n",
        "                # read the mask\n",
        "                mask = cv2.imread(path, cv2.IMREAD_UNCHANGED)\n",
        "                \n",
        "                # resize the mask\n",
        "                mask = cv2.resize(mask, (IMAGE_HEIGHT, IMAGE_WIDTH))\n",
        "                \n",
        "                # expand dims from (800,600) to (800,600,1)\n",
        "                mask = np.expand_dims(mask, axis=-1)\n",
        "                \n",
        "                \n",
        "                \n",
        "                \n",
        "                # insert the image into Y_train\n",
        "                Y_test[j] = mask\n",
        "            \n",
        "            #tf.cast(Y_test, tf.float32)\n",
        "            # Normalize the images\n",
        "            X_test = X_test/255\n",
        "            Y_test = Y_test/255\n",
        "            \n",
        "            yield X_test, Y_test"
      ]
    },
    {
      "cell_type": "code",
      "execution_count": null,
      "metadata": {
        "colab": {
          "base_uri": "https://localhost:8080/"
        },
        "id": "dKao_TW0geiS",
        "outputId": "4ddfb8d0-89fb-45e4-f223-232d82e5f41f"
      },
      "outputs": [
        {
          "name": "stdout",
          "output_type": "stream",
          "text": [
            "(15, 256, 256, 3)\n",
            "(15, 256, 256, 1)\n"
          ]
        }
      ],
      "source": [
        "# Test the generator\n",
        "\n",
        "# initialize\n",
        "test_gen = test_generator(batch_size=15)\n",
        "\n",
        "# run the generator\n",
        "X_test, Y_test = next(test_gen)\n",
        "\n",
        "print(X_test.shape)\n",
        "print(Y_test.shape)"
      ]
    },
    {
      "cell_type": "code",
      "execution_count": null,
      "metadata": {
        "colab": {
          "base_uri": "https://localhost:8080/"
        },
        "id": "GyHDTG-Pgi0Z",
        "outputId": "7d959e12-83a6-4c6f-f1fd-4686e61f9fef"
      },
      "outputs": [
        {
          "name": "stdout",
          "output_type": "stream",
          "text": [
            "Looking in indexes: https://pypi.org/simple, https://us-python.pkg.dev/colab-wheels/public/simple/\n",
            "Collecting segmentation_models\n",
            "  Downloading segmentation_models-1.0.1-py3-none-any.whl (33 kB)\n",
            "Collecting keras-applications<=1.0.8,>=1.0.7\n",
            "  Downloading Keras_Applications-1.0.8-py3-none-any.whl (50 kB)\n",
            "\u001b[K     |████████████████████████████████| 50 kB 6.2 MB/s \n",
            "\u001b[?25hCollecting image-classifiers==1.0.0\n",
            "  Downloading image_classifiers-1.0.0-py3-none-any.whl (19 kB)\n",
            "Collecting efficientnet==1.0.0\n",
            "  Downloading efficientnet-1.0.0-py3-none-any.whl (17 kB)\n",
            "Requirement already satisfied: scikit-image in /usr/local/lib/python3.7/dist-packages (from efficientnet==1.0.0->segmentation_models) (0.18.3)\n",
            "Requirement already satisfied: numpy>=1.9.1 in /usr/local/lib/python3.7/dist-packages (from keras-applications<=1.0.8,>=1.0.7->segmentation_models) (1.21.6)\n",
            "Requirement already satisfied: h5py in /usr/local/lib/python3.7/dist-packages (from keras-applications<=1.0.8,>=1.0.7->segmentation_models) (3.1.0)\n",
            "Requirement already satisfied: cached-property in /usr/local/lib/python3.7/dist-packages (from h5py->keras-applications<=1.0.8,>=1.0.7->segmentation_models) (1.5.2)\n",
            "Requirement already satisfied: tifffile>=2019.7.26 in /usr/local/lib/python3.7/dist-packages (from scikit-image->efficientnet==1.0.0->segmentation_models) (2021.11.2)\n",
            "Requirement already satisfied: pillow!=7.1.0,!=7.1.1,>=4.3.0 in /usr/local/lib/python3.7/dist-packages (from scikit-image->efficientnet==1.0.0->segmentation_models) (7.1.2)\n",
            "Requirement already satisfied: networkx>=2.0 in /usr/local/lib/python3.7/dist-packages (from scikit-image->efficientnet==1.0.0->segmentation_models) (2.6.3)\n",
            "Requirement already satisfied: imageio>=2.3.0 in /usr/local/lib/python3.7/dist-packages (from scikit-image->efficientnet==1.0.0->segmentation_models) (2.4.1)\n",
            "Requirement already satisfied: matplotlib!=3.0.0,>=2.0.0 in /usr/local/lib/python3.7/dist-packages (from scikit-image->efficientnet==1.0.0->segmentation_models) (3.2.2)\n",
            "Requirement already satisfied: scipy>=1.0.1 in /usr/local/lib/python3.7/dist-packages (from scikit-image->efficientnet==1.0.0->segmentation_models) (1.7.3)\n",
            "Requirement already satisfied: PyWavelets>=1.1.1 in /usr/local/lib/python3.7/dist-packages (from scikit-image->efficientnet==1.0.0->segmentation_models) (1.3.0)\n",
            "Requirement already satisfied: pyparsing!=2.0.4,!=2.1.2,!=2.1.6,>=2.0.1 in /usr/local/lib/python3.7/dist-packages (from matplotlib!=3.0.0,>=2.0.0->scikit-image->efficientnet==1.0.0->segmentation_models) (3.0.9)\n",
            "Requirement already satisfied: kiwisolver>=1.0.1 in /usr/local/lib/python3.7/dist-packages (from matplotlib!=3.0.0,>=2.0.0->scikit-image->efficientnet==1.0.0->segmentation_models) (1.4.4)\n",
            "Requirement already satisfied: cycler>=0.10 in /usr/local/lib/python3.7/dist-packages (from matplotlib!=3.0.0,>=2.0.0->scikit-image->efficientnet==1.0.0->segmentation_models) (0.11.0)\n",
            "Requirement already satisfied: python-dateutil>=2.1 in /usr/local/lib/python3.7/dist-packages (from matplotlib!=3.0.0,>=2.0.0->scikit-image->efficientnet==1.0.0->segmentation_models) (2.8.2)\n",
            "Requirement already satisfied: typing-extensions in /usr/local/lib/python3.7/dist-packages (from kiwisolver>=1.0.1->matplotlib!=3.0.0,>=2.0.0->scikit-image->efficientnet==1.0.0->segmentation_models) (4.1.1)\n",
            "Requirement already satisfied: six>=1.5 in /usr/local/lib/python3.7/dist-packages (from python-dateutil>=2.1->matplotlib!=3.0.0,>=2.0.0->scikit-image->efficientnet==1.0.0->segmentation_models) (1.15.0)\n",
            "Installing collected packages: keras-applications, image-classifiers, efficientnet, segmentation-models\n",
            "Successfully installed efficientnet-1.0.0 image-classifiers-1.0.0 keras-applications-1.0.8 segmentation-models-1.0.1\n"
          ]
        }
      ],
      "source": [
        "!pip install segmentation_models"
      ]
    },
    {
      "cell_type": "code",
      "execution_count": null,
      "metadata": {
        "id": "jxZ-GPptgotj"
      },
      "outputs": [],
      "source": [
        "from keras.models import Model, load_model\n",
        "from keras.layers import Input, UpSampling2D\n",
        "from keras.layers.core import Dropout, Lambda\n",
        "from keras.layers.convolutional import Conv2D, Conv2DTranspose\n",
        "from keras.layers.pooling import MaxPooling2D\n",
        "from keras.layers.merge import concatenate\n",
        "from keras.callbacks import EarlyStopping, ModelCheckpoint\n",
        "from keras import backend as K\n",
        "\n",
        "from keras.callbacks import (EarlyStopping, ReduceLROnPlateau, \n",
        "                                        ModelCheckpoint, CSVLogger, LearningRateScheduler)\n",
        "\n",
        "import tensorflow as tf\n",
        "\n",
        "from tensorflow.keras.optimizers import Adam\n",
        "\n",
        "from keras.losses import binary_crossentropy\n",
        "\n",
        "from keras.initializers import he_normal "
      ]
    },
    {
      "cell_type": "code",
      "execution_count": null,
      "metadata": {
        "colab": {
          "base_uri": "https://localhost:8080/",
          "height": 53
        },
        "id": "oOphsSasgsby",
        "outputId": "8e2229c6-15bd-460e-c144-a789a4519cd6"
      },
      "outputs": [
        {
          "name": "stdout",
          "output_type": "stream",
          "text": [
            "Segmentation Models: using `keras` framework.\n"
          ]
        },
        {
          "data": {
            "application/vnd.google.colaboratory.intrinsic+json": {
              "type": "string"
            },
            "text/plain": [
              "'tf.keras'"
            ]
          },
          "execution_count": 25,
          "metadata": {},
          "output_type": "execute_result"
        }
      ],
      "source": [
        "import segmentation_models as sm\n",
        "from segmentation_models import Unet, FPN\n",
        "from segmentation_models import  get_preprocessing # this line has an error in the docs\n",
        "\n",
        "from segmentation_models.losses import bce_jaccard_loss\n",
        "from segmentation_models.metrics import iou_score\n",
        "\n",
        "from segmentation_models.losses import dice_loss\n",
        "#from segmentation_models.metrics import dice_score\n",
        "\n",
        "from segmentation_models.utils import set_trainable\n",
        "\n",
        "sm.set_framework('tf.keras')\n",
        "\n",
        "sm.framework()"
      ]
    },
    {
      "cell_type": "code",
      "execution_count": null,
      "metadata": {
        "id": "J9ZZVsrigtS6"
      },
      "outputs": [],
      "source": [
        "num_train_samples = len(df_train)\n",
        "num_val_samples = len(df_val)\n",
        "train_batch_size = BATCH_SIZE\n",
        "val_batch_size = BATCH_SIZE\n",
        "\n",
        "# determine numtrain steps\n",
        "train_steps = np.ceil(num_train_samples / train_batch_size)\n",
        "# determine num val steps\n",
        "val_steps = np.ceil(num_val_samples / val_batch_size)"
      ]
    },
    {
      "cell_type": "code",
      "execution_count": null,
      "metadata": {
        "colab": {
          "base_uri": "https://localhost:8080/"
        },
        "id": "flpGwAdth7qS",
        "outputId": "039f5fba-fef3-43b4-d9b1-76db266bd9d7"
      },
      "outputs": [
        {
          "name": "stderr",
          "output_type": "stream",
          "text": [
            "/usr/local/lib/python3.7/dist-packages/keras_applications/mobilenet_v2.py:294: UserWarning: `input_shape` is undefined or non-square, or `rows` is not in [96, 128, 160, 192, 224]. Weights for input shape (224, 224) will be loaded as the default.\n",
            "  warnings.warn('`input_shape` is undefined or non-square, '\n"
          ]
        },
        {
          "name": "stdout",
          "output_type": "stream",
          "text": [
            "Downloading data from https://github.com/JonathanCMitchell/mobilenet_v2_keras/releases/download/v1.1/mobilenet_v2_weights_tf_dim_ordering_tf_kernels_1.0_224_no_top.h5\n",
            "9412608/9406464 [==============================] - 0s 0us/step\n",
            "9420800/9406464 [==============================] - 0s 0us/step\n"
          ]
        }
      ],
      "source": [
        "#preprocess = get_preprocessing('resnet101') # for resnet, img = (img-110.0)/1.0\n",
        "\n",
        "# 'efficientnetb0'\n",
        "\n",
        "BACKBONE = 'mobilenetv2'\n",
        "preprocess_input = get_preprocessing(BACKBONE)\n",
        "\n",
        "# Note that the model takes 3-channel images as input\n",
        "model = Unet(BACKBONE, input_shape=(IMAGE_HEIGHT, IMAGE_WIDTH, IMAGE_CHANNELS), \n",
        "             #freeze_encoder=False,\n",
        "             classes=1, \n",
        "             encoder_weights='imagenet',\n",
        "             activation='sigmoid')\n",
        "\n",
        "#model.summary()"
      ]
    },
    {
      "cell_type": "code",
      "execution_count": null,
      "metadata": {
        "colab": {
          "base_uri": "https://localhost:8080/"
        },
        "id": "B86ho276g6by",
        "outputId": "9be7cf12-74a6-4513-a6ee-7f4c3a81db01"
      },
      "outputs": [
        {
          "name": "stdout",
          "output_type": "stream",
          "text": [
            "Epoch 1/200\n",
            "196/196 [==============================] - ETA: 0s - loss: 0.9951 - iou_score: 0.0025\n",
            "Epoch 1: val_loss improved from inf to 0.99821, saving model to model_seg_f.h5\n",
            "196/196 [==============================] - 875s 4s/step - loss: 0.9951 - iou_score: 0.0025 - val_loss: 0.9982 - val_iou_score: 8.8863e-04 - lr: 1.0000e-04\n",
            "Epoch 2/200\n",
            "196/196 [==============================] - ETA: 0s - loss: 0.9893 - iou_score: 0.0055\n",
            "Epoch 2: val_loss improved from 0.99821 to 0.99377, saving model to model_seg_f.h5\n",
            "196/196 [==============================] - 45s 232ms/step - loss: 0.9893 - iou_score: 0.0055 - val_loss: 0.9938 - val_iou_score: 0.0031 - lr: 1.0000e-04\n",
            "Epoch 3/200\n",
            "196/196 [==============================] - ETA: 0s - loss: 0.9742 - iou_score: 0.0137\n",
            "Epoch 3: val_loss did not improve from 0.99377\n",
            "196/196 [==============================] - 42s 216ms/step - loss: 0.9742 - iou_score: 0.0137 - val_loss: 0.9984 - val_iou_score: 7.9275e-04 - lr: 1.0000e-04\n",
            "Epoch 4/200\n",
            "196/196 [==============================] - ETA: 0s - loss: 0.9287 - iou_score: 0.0421\n",
            "Epoch 4: val_loss improved from 0.99377 to 0.98776, saving model to model_seg_f.h5\n",
            "196/196 [==============================] - 46s 233ms/step - loss: 0.9287 - iou_score: 0.0421 - val_loss: 0.9878 - val_iou_score: 0.0063 - lr: 1.0000e-04\n",
            "Epoch 5/200\n",
            "196/196 [==============================] - ETA: 0s - loss: 0.8730 - iou_score: 0.0812\n",
            "Epoch 5: val_loss improved from 0.98776 to 0.95961, saving model to model_seg_f.h5\n",
            "196/196 [==============================] - 44s 227ms/step - loss: 0.8730 - iou_score: 0.0812 - val_loss: 0.9596 - val_iou_score: 0.0234 - lr: 1.0000e-04\n",
            "Epoch 6/200\n",
            "196/196 [==============================] - ETA: 0s - loss: 0.7994 - iou_score: 0.1386\n",
            "Epoch 6: val_loss improved from 0.95961 to 0.94931, saving model to model_seg_f.h5\n",
            "196/196 [==============================] - 46s 235ms/step - loss: 0.7994 - iou_score: 0.1386 - val_loss: 0.9493 - val_iou_score: 0.0337 - lr: 1.0000e-04\n",
            "Epoch 7/200\n",
            "196/196 [==============================] - ETA: 0s - loss: 0.7740 - iou_score: 0.1596\n",
            "Epoch 7: val_loss improved from 0.94931 to 0.90212, saving model to model_seg_f.h5\n",
            "196/196 [==============================] - 45s 227ms/step - loss: 0.7740 - iou_score: 0.1596 - val_loss: 0.9021 - val_iou_score: 0.0669 - lr: 1.0000e-04\n",
            "Epoch 8/200\n",
            "196/196 [==============================] - ETA: 0s - loss: 0.7546 - iou_score: 0.1799\n",
            "Epoch 8: val_loss did not improve from 0.90212\n",
            "196/196 [==============================] - 44s 225ms/step - loss: 0.7546 - iou_score: 0.1799 - val_loss: 0.9062 - val_iou_score: 0.0650 - lr: 1.0000e-04\n",
            "Epoch 9/200\n",
            "196/196 [==============================] - ETA: 0s - loss: 0.7354 - iou_score: 0.1943\n",
            "Epoch 9: val_loss improved from 0.90212 to 0.90182, saving model to model_seg_f.h5\n",
            "196/196 [==============================] - 44s 225ms/step - loss: 0.7354 - iou_score: 0.1943 - val_loss: 0.9018 - val_iou_score: 0.0669 - lr: 1.0000e-04\n",
            "Epoch 10/200\n",
            "196/196 [==============================] - ETA: 0s - loss: 0.7153 - iou_score: 0.2127\n",
            "Epoch 10: val_loss improved from 0.90182 to 0.83739, saving model to model_seg_f.h5\n",
            "196/196 [==============================] - 46s 235ms/step - loss: 0.7153 - iou_score: 0.2127 - val_loss: 0.8374 - val_iou_score: 0.1193 - lr: 1.0000e-04\n",
            "Epoch 11/200\n",
            "196/196 [==============================] - ETA: 0s - loss: 0.7006 - iou_score: 0.2278\n",
            "Epoch 11: val_loss did not improve from 0.83739\n",
            "196/196 [==============================] - 44s 224ms/step - loss: 0.7006 - iou_score: 0.2278 - val_loss: 0.8969 - val_iou_score: 0.0710 - lr: 1.0000e-04\n",
            "Epoch 12/200\n",
            "196/196 [==============================] - ETA: 0s - loss: 0.6960 - iou_score: 0.2274\n",
            "Epoch 12: val_loss improved from 0.83739 to 0.80087, saving model to model_seg_f.h5\n",
            "196/196 [==============================] - 45s 232ms/step - loss: 0.6960 - iou_score: 0.2274 - val_loss: 0.8009 - val_iou_score: 0.1530 - lr: 1.0000e-04\n",
            "Epoch 13/200\n",
            "196/196 [==============================] - ETA: 0s - loss: 0.6973 - iou_score: 0.2288\n",
            "Epoch 13: val_loss did not improve from 0.80087\n",
            "196/196 [==============================] - 45s 229ms/step - loss: 0.6973 - iou_score: 0.2288 - val_loss: 0.8089 - val_iou_score: 0.1382 - lr: 1.0000e-04\n",
            "Epoch 14/200\n",
            "196/196 [==============================] - ETA: 0s - loss: 0.6891 - iou_score: 0.2337\n",
            "Epoch 14: val_loss did not improve from 0.80087\n",
            "\n",
            "Epoch 14: ReduceLROnPlateau reducing learning rate to 4.999999873689376e-05.\n",
            "196/196 [==============================] - 44s 227ms/step - loss: 0.6891 - iou_score: 0.2337 - val_loss: 0.8373 - val_iou_score: 0.1178 - lr: 1.0000e-04\n",
            "Epoch 15/200\n",
            "196/196 [==============================] - ETA: 0s - loss: 0.6603 - iou_score: 0.2608\n",
            "Epoch 15: val_loss improved from 0.80087 to 0.75135, saving model to model_seg_f.h5\n",
            "196/196 [==============================] - 46s 232ms/step - loss: 0.6603 - iou_score: 0.2608 - val_loss: 0.7514 - val_iou_score: 0.1897 - lr: 5.0000e-05\n",
            "Epoch 16/200\n",
            "196/196 [==============================] - ETA: 0s - loss: 0.6419 - iou_score: 0.2787\n",
            "Epoch 16: val_loss improved from 0.75135 to 0.70469, saving model to model_seg_f.h5\n",
            "196/196 [==============================] - 45s 232ms/step - loss: 0.6419 - iou_score: 0.2787 - val_loss: 0.7047 - val_iou_score: 0.2217 - lr: 5.0000e-05\n",
            "Epoch 17/200\n",
            "196/196 [==============================] - ETA: 0s - loss: 0.6378 - iou_score: 0.2827\n",
            "Epoch 17: val_loss did not improve from 0.70469\n",
            "196/196 [==============================] - 44s 225ms/step - loss: 0.6378 - iou_score: 0.2827 - val_loss: 0.7557 - val_iou_score: 0.1822 - lr: 5.0000e-05\n",
            "Epoch 18/200\n",
            "196/196 [==============================] - ETA: 0s - loss: 0.6220 - iou_score: 0.2970\n",
            "Epoch 18: val_loss did not improve from 0.70469\n",
            "\n",
            "Epoch 18: ReduceLROnPlateau reducing learning rate to 2.499999936844688e-05.\n",
            "196/196 [==============================] - 42s 215ms/step - loss: 0.6220 - iou_score: 0.2970 - val_loss: 0.7149 - val_iou_score: 0.2135 - lr: 5.0000e-05\n",
            "Epoch 19/200\n",
            "196/196 [==============================] - ETA: 0s - loss: 0.6261 - iou_score: 0.2941\n",
            "Epoch 19: val_loss improved from 0.70469 to 0.68166, saving model to model_seg_f.h5\n",
            "196/196 [==============================] - 45s 232ms/step - loss: 0.6261 - iou_score: 0.2941 - val_loss: 0.6817 - val_iou_score: 0.2422 - lr: 2.5000e-05\n",
            "Epoch 20/200\n",
            "196/196 [==============================] - ETA: 0s - loss: 0.6181 - iou_score: 0.3013\n",
            "Epoch 20: val_loss improved from 0.68166 to 0.67272, saving model to model_seg_f.h5\n",
            "196/196 [==============================] - 45s 228ms/step - loss: 0.6181 - iou_score: 0.3013 - val_loss: 0.6727 - val_iou_score: 0.2511 - lr: 2.5000e-05\n",
            "Epoch 21/200\n",
            "196/196 [==============================] - ETA: 0s - loss: 0.6264 - iou_score: 0.2954\n",
            "Epoch 21: val_loss improved from 0.67272 to 0.66054, saving model to model_seg_f.h5\n",
            "196/196 [==============================] - 46s 235ms/step - loss: 0.6264 - iou_score: 0.2954 - val_loss: 0.6605 - val_iou_score: 0.2593 - lr: 2.5000e-05\n",
            "Epoch 22/200\n",
            "196/196 [==============================] - ETA: 0s - loss: 0.6163 - iou_score: 0.3041\n",
            "Epoch 22: val_loss did not improve from 0.66054\n",
            "196/196 [==============================] - 45s 227ms/step - loss: 0.6163 - iou_score: 0.3041 - val_loss: 0.6683 - val_iou_score: 0.2530 - lr: 2.5000e-05\n",
            "Epoch 23/200\n",
            "196/196 [==============================] - ETA: 0s - loss: 0.6109 - iou_score: 0.3091\n",
            "Epoch 23: val_loss improved from 0.66054 to 0.64580, saving model to model_seg_f.h5\n",
            "196/196 [==============================] - 46s 233ms/step - loss: 0.6109 - iou_score: 0.3091 - val_loss: 0.6458 - val_iou_score: 0.2713 - lr: 2.5000e-05\n",
            "Epoch 24/200\n",
            "196/196 [==============================] - ETA: 0s - loss: 0.6047 - iou_score: 0.3162\n",
            "Epoch 24: val_loss improved from 0.64580 to 0.63340, saving model to model_seg_f.h5\n",
            "196/196 [==============================] - 46s 234ms/step - loss: 0.6047 - iou_score: 0.3162 - val_loss: 0.6334 - val_iou_score: 0.2791 - lr: 2.5000e-05\n",
            "Epoch 25/200\n",
            "196/196 [==============================] - ETA: 0s - loss: 0.5986 - iou_score: 0.3211\n",
            "Epoch 25: val_loss did not improve from 0.63340\n",
            "196/196 [==============================] - 43s 217ms/step - loss: 0.5986 - iou_score: 0.3211 - val_loss: 0.6486 - val_iou_score: 0.2697 - lr: 2.5000e-05\n",
            "Epoch 26/200\n",
            "196/196 [==============================] - ETA: 0s - loss: 0.6059 - iou_score: 0.3120\n",
            "Epoch 26: val_loss did not improve from 0.63340\n",
            "\n",
            "Epoch 26: ReduceLROnPlateau reducing learning rate to 1.249999968422344e-05.\n",
            "196/196 [==============================] - 44s 223ms/step - loss: 0.6059 - iou_score: 0.3120 - val_loss: 0.6877 - val_iou_score: 0.2413 - lr: 2.5000e-05\n",
            "Epoch 27/200\n",
            "196/196 [==============================] - ETA: 0s - loss: 0.6124 - iou_score: 0.3103\n",
            "Epoch 27: val_loss did not improve from 0.63340\n",
            "196/196 [==============================] - 44s 225ms/step - loss: 0.6124 - iou_score: 0.3103 - val_loss: 0.6534 - val_iou_score: 0.2690 - lr: 1.2500e-05\n",
            "Epoch 28/200\n",
            "196/196 [==============================] - ETA: 0s - loss: 0.5978 - iou_score: 0.3234\n",
            "Epoch 28: val_loss did not improve from 0.63340\n",
            "\n",
            "Epoch 28: ReduceLROnPlateau reducing learning rate to 6.24999984211172e-06.\n",
            "196/196 [==============================] - 44s 225ms/step - loss: 0.5978 - iou_score: 0.3234 - val_loss: 0.6625 - val_iou_score: 0.2624 - lr: 1.2500e-05\n",
            "Epoch 29/200\n",
            "196/196 [==============================] - ETA: 0s - loss: 0.5916 - iou_score: 0.3278\n",
            "Epoch 29: val_loss did not improve from 0.63340\n",
            "196/196 [==============================] - 42s 216ms/step - loss: 0.5916 - iou_score: 0.3278 - val_loss: 0.6534 - val_iou_score: 0.2698 - lr: 6.2500e-06\n",
            "Epoch 29: early stopping\n"
          ]
        }
      ],
      "source": [
        "# Initialize the generators\n",
        "train_gen = train_generator(batch_size=BATCH_SIZE)\n",
        "val_gen = val_generator(batch_size=BATCH_SIZE)\n",
        "\n",
        "#The U-Net model\n",
        "#This code was original downloaded from https://github.com/zhixuhao/unet, then edited\n",
        "def jaccard_loss(y_true, y_pred): #https://www.jeremyjordan.me/evaluating-image-segmentation-models/\n",
        "    intersection = y_true*y_pred\n",
        "    union = 1 -((1-y_true)*(1-y_pred))\n",
        "    return 1-(K.sum(intersection) / K.sum(union))\n",
        "\n",
        "model.compile(\n",
        "    Adam(learning_rate=0.0001),\n",
        "    loss=dice_loss,\n",
        "    #loss=bce_jaccard_loss,\n",
        "    metrics=[iou_score],\n",
        ")\n",
        "\n",
        "\n",
        "filepath = \"model_seg_f.h5\"\n",
        "\n",
        "earlystopper = EarlyStopping(patience=5, verbose=1)\n",
        "\n",
        "checkpoint = ModelCheckpoint(filepath, monitor='val_loss', verbose=1, \n",
        "                             save_best_only=True, mode='min')\n",
        "\n",
        "reduce_lr = ReduceLROnPlateau(monitor='val_loss', factor=0.5, patience=2, \n",
        "                                   verbose=1, mode='min')\n",
        "\n",
        "\n",
        "log_fname = 'training_log.csv'\n",
        "csv_logger = CSVLogger(filename=log_fname,\n",
        "                       separator=',',\n",
        "                       append=False)\n",
        "\n",
        "callbacks_list = [checkpoint, earlystopper, csv_logger, reduce_lr]\n",
        "history = model.fit(train_gen, steps_per_epoch=train_steps, epochs=200, \n",
        "                              validation_data=val_gen, validation_steps=val_steps,\n",
        "                              verbose=1,\n",
        "                              callbacks=callbacks_list)"
      ]
    },
    {
      "cell_type": "code",
      "execution_count": null,
      "metadata": {
        "colab": {
          "base_uri": "https://localhost:8080/",
          "height": 235
        },
        "id": "8Hrxq5CFMMBm",
        "outputId": "d1f7a3a0-fadd-429e-83b0-b628e2a4743c"
      },
      "outputs": [
        {
          "output_type": "error",
          "ename": "NameError",
          "evalue": "ignored",
          "traceback": [
            "\u001b[0;31m---------------------------------------------------------------------------\u001b[0m",
            "\u001b[0;31mNameError\u001b[0m                                 Traceback (most recent call last)",
            "\u001b[0;32m<ipython-input-2-35f31d83da00>\u001b[0m in \u001b[0;36m<module>\u001b[0;34m()\u001b[0m\n\u001b[1;32m      2\u001b[0m \u001b[0;34m\u001b[0m\u001b[0m\n\u001b[1;32m      3\u001b[0m \u001b[0;31m# initialize the test generator\u001b[0m\u001b[0;34m\u001b[0m\u001b[0;34m\u001b[0m\u001b[0;34m\u001b[0m\u001b[0m\n\u001b[0;32m----> 4\u001b[0;31m \u001b[0mtest_gen\u001b[0m \u001b[0;34m=\u001b[0m \u001b[0mtest_generator\u001b[0m\u001b[0;34m(\u001b[0m\u001b[0mbatch_size\u001b[0m\u001b[0;34m=\u001b[0m\u001b[0;36m1\u001b[0m\u001b[0;34m)\u001b[0m\u001b[0;34m\u001b[0m\u001b[0;34m\u001b[0m\u001b[0m\n\u001b[0m\u001b[1;32m      5\u001b[0m \u001b[0;34m\u001b[0m\u001b[0m\n\u001b[1;32m      6\u001b[0m \u001b[0mmodel\u001b[0m\u001b[0;34m.\u001b[0m\u001b[0mload_weights\u001b[0m\u001b[0;34m(\u001b[0m\u001b[0;34m'model_seg_f.h5'\u001b[0m\u001b[0;34m)\u001b[0m\u001b[0;34m\u001b[0m\u001b[0;34m\u001b[0m\u001b[0m\n",
            "\u001b[0;31mNameError\u001b[0m: name 'test_generator' is not defined"
          ]
        }
      ],
      "source": [
        "# Make a prediction\n",
        "\n",
        "# initialize the test generator\n",
        "test_gen = test_generator(batch_size=1)\n",
        "\n",
        "model.load_weights('model_seg_f.h5')\n",
        "predictions = model.predict_generator(test_gen, \n",
        "                                      steps=len(df_test),  \n",
        "                                      verbose=1)"
      ]
    },
    {
      "cell_type": "code",
      "execution_count": null,
      "metadata": {
        "colab": {
          "base_uri": "https://localhost:8080/",
          "height": 235
        },
        "id": "aRppu5UGN3T0",
        "outputId": "04ceb5f8-0ca9-4007-c062-0e1435f1e149"
      },
      "outputs": [
        {
          "output_type": "error",
          "ename": "NameError",
          "evalue": "ignored",
          "traceback": [
            "\u001b[0;31m---------------------------------------------------------------------------\u001b[0m",
            "\u001b[0;31mNameError\u001b[0m                                 Traceback (most recent call last)",
            "\u001b[0;32m<ipython-input-1-a3593d67dcdb>\u001b[0m in \u001b[0;36m<module>\u001b[0;34m()\u001b[0m\n\u001b[0;32m----> 1\u001b[0;31m \u001b[0mpreds_test_thresh\u001b[0m \u001b[0;34m=\u001b[0m \u001b[0;34m(\u001b[0m\u001b[0mpredictions\u001b[0m \u001b[0;34m>=\u001b[0m \u001b[0;36m0.7\u001b[0m\u001b[0;34m)\u001b[0m\u001b[0;34m.\u001b[0m\u001b[0mastype\u001b[0m\u001b[0;34m(\u001b[0m\u001b[0mnp\u001b[0m\u001b[0;34m.\u001b[0m\u001b[0muint8\u001b[0m\u001b[0;34m)\u001b[0m\u001b[0;34m\u001b[0m\u001b[0;34m\u001b[0m\u001b[0m\n\u001b[0m\u001b[1;32m      2\u001b[0m \u001b[0;34m\u001b[0m\u001b[0m\n\u001b[1;32m      3\u001b[0m \u001b[0mpreds_test_thresh\u001b[0m\u001b[0;34m.\u001b[0m\u001b[0mshape\u001b[0m\u001b[0;34m\u001b[0m\u001b[0;34m\u001b[0m\u001b[0m\n\u001b[1;32m      4\u001b[0m \u001b[0;34m\u001b[0m\u001b[0m\n\u001b[1;32m      5\u001b[0m \u001b[0mprint\u001b[0m\u001b[0;34m(\u001b[0m\u001b[0mpreds_test_thresh\u001b[0m\u001b[0;34m.\u001b[0m\u001b[0mmin\u001b[0m\u001b[0;34m(\u001b[0m\u001b[0;34m)\u001b[0m\u001b[0;34m)\u001b[0m\u001b[0;34m\u001b[0m\u001b[0;34m\u001b[0m\u001b[0m\n",
            "\u001b[0;31mNameError\u001b[0m: name 'predictions' is not defined"
          ]
        }
      ],
      "source": [
        "preds_test_thresh = (predictions >= 0.7).astype(np.uint8)\n",
        "\n",
        "preds_test_thresh.shape\n",
        "\n",
        "print(preds_test_thresh.min())\n",
        "print(preds_test_thresh.max())"
      ]
    },
    {
      "cell_type": "code",
      "execution_count": null,
      "metadata": {
        "colab": {
          "background_save": true
        },
        "id": "pRus3tkYOPKN"
      },
      "outputs": [],
      "source": [
        "indx = 4"
      ]
    },
    {
      "cell_type": "code",
      "execution_count": null,
      "metadata": {
        "colab": {
          "base_uri": "https://localhost:8080/",
          "height": 286
        },
        "id": "A5dMcSQYN8VE",
        "outputId": "1e8b5b83-0cb5-40cd-9b36-8a363760b605"
      },
      "outputs": [
        {
          "data": {
            "text/plain": [
              "<matplotlib.image.AxesImage at 0x7fafd22c4850>"
            ]
          },
          "execution_count": 50,
          "metadata": {},
          "output_type": "execute_result"
        },
        {
          "data": {
            "image/png": "[encoded data removed]",
            "text/plain": [
              "<Figure size 432x288 with 1 Axes>"
            ]
          },
          "metadata": {},
          "output_type": "display_data"
        }
      ],
      "source": [
        "# This is a predicted mask\n",
        "\n",
        "mask = preds_test_thresh[indx,:,:,0]\n",
        "plt.imshow(mask, cmap='Reds', alpha=0.3)"
      ]
    },
    {
      "cell_type": "code",
      "execution_count": null,
      "metadata": {
        "colab": {
          "base_uri": "https://localhost:8080/",
          "height": 217
        },
        "id": "DovaZPtaOEe_",
        "outputId": "1d0609cc-709a-47e2-f8da-cc56f8949120"
      },
      "outputs": [
        {
          "ename": "IndexError",
          "evalue": "ignored",
          "output_type": "error",
          "traceback": [
            "\u001b[0;31m---------------------------------------------------------------------------\u001b[0m",
            "\u001b[0;31mIndexError\u001b[0m                                Traceback (most recent call last)",
            "\u001b[0;32m<ipython-input-51-2a9b3dbbfb0d>\u001b[0m in \u001b[0;36m<module>\u001b[0;34m()\u001b[0m\n\u001b[1;32m      1\u001b[0m \u001b[0;31m# This is a true mask\u001b[0m\u001b[0;34m\u001b[0m\u001b[0;34m\u001b[0m\u001b[0;34m\u001b[0m\u001b[0m\n\u001b[1;32m      2\u001b[0m \u001b[0;34m\u001b[0m\u001b[0m\n\u001b[0;32m----> 3\u001b[0;31m \u001b[0mtrue_mask\u001b[0m \u001b[0;34m=\u001b[0m \u001b[0mY_test\u001b[0m\u001b[0;34m[\u001b[0m\u001b[0mindx\u001b[0m\u001b[0;34m,\u001b[0m\u001b[0;34m:\u001b[0m\u001b[0;34m,\u001b[0m\u001b[0;34m:\u001b[0m\u001b[0;34m,\u001b[0m\u001b[0;36m0\u001b[0m\u001b[0;34m]\u001b[0m\u001b[0;34m\u001b[0m\u001b[0;34m\u001b[0m\u001b[0m\n\u001b[0m\u001b[1;32m      4\u001b[0m \u001b[0mplt\u001b[0m\u001b[0;34m.\u001b[0m\u001b[0mimshow\u001b[0m\u001b[0;34m(\u001b[0m\u001b[0mtrue_mask\u001b[0m\u001b[0;34m,\u001b[0m \u001b[0mcmap\u001b[0m\u001b[0;34m=\u001b[0m\u001b[0;34m'Blues'\u001b[0m\u001b[0;34m,\u001b[0m \u001b[0malpha\u001b[0m\u001b[0;34m=\u001b[0m\u001b[0;36m0.3\u001b[0m\u001b[0;34m)\u001b[0m\u001b[0;34m\u001b[0m\u001b[0;34m\u001b[0m\u001b[0m\n",
            "\u001b[0;31mIndexError\u001b[0m: index 16 is out of bounds for axis 0 with size 15"
          ]
        }
      ],
      "source": [
        "# This is a true mask\n",
        "\n",
        "true_mask = Y_test[indx,:,:,0]\n",
        "plt.imshow(true_mask, cmap='Blues', alpha=0.3)"
      ]
    },
    {
      "cell_type": "code",
      "execution_count": null,
      "metadata": {
        "id": "q4fN7qs3IEhf"
      },
      "outputs": [],
      "source": [
        "def iou_scr (mask, true_mask):\n",
        "  intersection = np.logical_and(mask, true_mask)\n",
        "  union = np.logical_or(mask, true_mask)\n",
        "  iou_score = np.sum(intersection) / np.sum(union)\n",
        "  return iou_score\n"
      ]
    },
    {
      "cell_type": "code",
      "execution_count": null,
      "metadata": {
        "colab": {
          "base_uri": "https://localhost:8080/"
        },
        "id": "Raf4KBXjIQZA",
        "outputId": "5654d9e2-b8ae-4e5b-88e6-0a9a7fefc143"
      },
      "outputs": [
        {
          "name": "stdout",
          "output_type": "stream",
          "text": [
            "0.24296296296296296\n"
          ]
        }
      ],
      "source": [
        "res = iou_scr(mask, true_mask)\n",
        "print(res)"
      ]
    },
    {
      "cell_type": "code",
      "execution_count": null,
      "metadata": {
        "id": "SXAQ96p-IiyV"
      },
      "outputs": [],
      "source": [
        "mn_iou = []\n",
        "y = 10\n",
        "for indx in range(y):\n",
        "  pred = preds_test_thresh[indx,:,:,0]\n",
        "  true = Y_test[indx,:,:,0]\n",
        "  r = iou_scr(pred, true)\n",
        "  mn_iou.append(r)\n",
        "\n"
      ]
    },
    {
      "cell_type": "code",
      "execution_count": null,
      "metadata": {
        "colab": {
          "base_uri": "https://localhost:8080/"
        },
        "id": "ZCZ3D1ouJRKx",
        "outputId": "14faf5c5-d413-4a38-9d62-dbab45bf699b"
      },
      "outputs": [
        {
          "name": "stdout",
          "output_type": "stream",
          "text": [
            "[0.0, 0.0, 0.0, 0.0, 0.0, 0.0, 0.006802721088435374, 0.0, 0.0, 0.023529411764705882]\n"
          ]
        }
      ],
      "source": [
        "print(mn_iou)"
      ]
    },
    {
      "cell_type": "code",
      "execution_count": null,
      "metadata": {
        "colab": {
          "base_uri": "https://localhost:8080/"
        },
        "id": "-RixSAgfJUqC",
        "outputId": "a2365e21-34aa-4c5a-ae59-afad5175ab4c"
      },
      "outputs": [
        {
          "name": "stdout",
          "output_type": "stream",
          "text": [
            "0.0030332132853141255\n"
          ]
        }
      ],
      "source": [
        "for i in mn_iou:\n",
        "  res = sum(mn_iou)/y\n",
        "\n",
        "print(res) "
      ]
    },
    {
      "cell_type": "code",
      "execution_count": null,
      "metadata": {
        "colab": {
          "base_uri": "https://localhost:8080/"
        },
        "id": "zWMq7KQEOiB2",
        "outputId": "44c80300-f9c2-4305-9bc7-b4bdd824a8f2"
      },
      "outputs": [
        {
          "name": "stdout",
          "output_type": "stream",
          "text": [
            "IoU is 0.015182186234817813\n"
          ]
        }
      ],
      "source": [
        "intersection = np.logical_and(mask, true_mask)\n",
        "union = np.logical_or(mask, true_mask)\n",
        "iou_score = np.sum(intersection) / np.sum(union)\n",
        "print('IoU is %s' % iou_score)"
      ]
    },
    {
      "cell_type": "code",
      "execution_count": null,
      "metadata": {
        "colab": {
          "base_uri": "https://localhost:8080/"
        },
        "id": "YBRvHvdmGgR7",
        "outputId": "8ba70625-eac6-4459-a42b-b598201c4eca"
      },
      "outputs": [
        {
          "name": "stdout",
          "output_type": "stream",
          "text": [
            "/content/drive/My Drive/NoteBooks/DWT-ICH\n"
          ]
        }
      ],
      "source": [
        "%cd /content/drive/My Drive/NoteBooks/DWT-ICH"
      ]
    },
    {
      "cell_type": "code",
      "execution_count": null,
      "metadata": {
        "id": "lfl02rYYKxkJ"
      },
      "outputs": [],
      "source": [
        "import cv2\n",
        "import numpy as np\n",
        "import matplotlib.pyplot as plt"
      ]
    },
    {
      "cell_type": "code",
      "execution_count": null,
      "metadata": {
        "id": "JxlZeaYhK0Un"
      },
      "outputs": [],
      "source": [
        "# import the dwt_ich library\n",
        "from  dwt_ich import ICH"
      ]
    },
    {
      "cell_type": "code",
      "execution_count": null,
      "metadata": {
        "id": "NlP2IX5yK38v"
      },
      "outputs": [],
      "source": [
        "#create object of ICH class\n",
        "brain = ICH()"
      ]
    },
    {
      "cell_type": "code",
      "execution_count": null,
      "metadata": {
        "colab": {
          "base_uri": "https://localhost:8080/",
          "height": 269
        },
        "id": "SmL3fmHILDwi",
        "outputId": "94a4f34d-45ec-40ae-d94b-f28f5b9d25e9"
      },
      "outputs": [
        {
          "data": {
            "image/png": "[encoded data removed]",
            "text/plain": [
              "<Figure size 432x288 with 1 Axes>"
            ]
          },
          "metadata": {},
          "output_type": "display_data"
        }
      ],
      "source": [
        "img = X_test[4,:,:,:]\n",
        "plt.imshow(img)\n",
        "plt.savefig('foo.png')"
      ]
    },
    {
      "cell_type": "code",
      "execution_count": null,
      "metadata": {
        "colab": {
          "base_uri": "https://localhost:8080/",
          "height": 286
        },
        "id": "NOUlv0ZyplG2",
        "outputId": "14cb1421-8c33-41bd-e6ca-66cd068ec899"
      },
      "outputs": [
        {
          "data": {
            "text/plain": [
              "<matplotlib.image.AxesImage at 0x7ff64d7bc7d0>"
            ]
          },
          "execution_count": 76,
          "metadata": {},
          "output_type": "execute_result"
        },
        {
          "data": {
            "image/png": "[encoded data removed]",
            "text/plain": [
              "<Figure size 432x288 with 1 Axes>"
            ]
          },
          "metadata": {},
          "output_type": "display_data"
        }
      ],
      "source": [
        "img1 = Y_test[4,:,:,0]\n",
        "plt.imshow(img1)"
      ]
    },
    {
      "cell_type": "code",
      "execution_count": null,
      "metadata": {
        "id": "uXOORQV4MMAX"
      },
      "outputs": [],
      "source": [
        "# call the predict method and pass the image path\n",
        "x = 'foo.png'\n",
        "res, pred_mask = brain.predict(x)"
      ]
    },
    {
      "cell_type": "markdown",
      "metadata": {
        "id": "-Mj-olC9pbfW"
      },
      "source": [
        "**DWT**"
      ]
    },
    {
      "cell_type": "code",
      "execution_count": null,
      "metadata": {
        "colab": {
          "base_uri": "https://localhost:8080/",
          "height": 286
        },
        "id": "UBzmCYcYmbqA",
        "outputId": "9ea66e98-5003-4f30-cf25-f1b698a24a9e"
      },
      "outputs": [
        {
          "data": {
            "text/plain": [
              "<matplotlib.image.AxesImage at 0x7ff64d5816d0>"
            ]
          },
          "execution_count": 89,
          "metadata": {},
          "output_type": "execute_result"
        },
        {
          "data": {
            "image/png": "[encoded data removed]",
            "text/plain": [
              "<Figure size 432x288 with 1 Axes>"
            ]
          },
          "metadata": {},
          "output_type": "display_data"
        }
      ],
      "source": [
        "plt.imshow(pred_mask)"
      ]
    },
    {
      "cell_type": "code",
      "execution_count": null,
      "metadata": {
        "id": "Cz0-mb8hm2EO"
      },
      "outputs": [],
      "source": [
        ""
      ]
    },
    {
      "cell_type": "code",
      "execution_count": null,
      "metadata": {
        "colab": {
          "base_uri": "https://localhost:8080/",
          "height": 286
        },
        "id": "F6NlsREnmi3O",
        "outputId": "1f5e0f52-90e4-4861-8e7c-0f4aa0091f3b"
      },
      "outputs": [
        {
          "data": {
            "text/plain": [
              "<matplotlib.image.AxesImage at 0x7f839b0b9a10>"
            ]
          },
          "execution_count": 84,
          "metadata": {},
          "output_type": "execute_result"
        },
        {
          "data": {
            "image/png": "[encoded data removed]",
            "text/plain": [
              "<Figure size 432x288 with 1 Axes>"
            ]
          },
          "metadata": {},
          "output_type": "display_data"
        }
      ],
      "source": [
        "# This is a predicted mask\n",
        "\n",
        "mask = preds_test_thresh[14,:,:,0]\n",
        "plt.imshow(mask, cmap='Reds', alpha=0.3)"
      ]
    },
    {
      "cell_type": "code",
      "execution_count": null,
      "metadata": {
        "colab": {
          "base_uri": "https://localhost:8080/",
          "height": 286
        },
        "id": "dTcQLMyumrtO",
        "outputId": "349f9337-d0b5-4e6c-d0c5-c55e54720686"
      },
      "outputs": [
        {
          "data": {
            "text/plain": [
              "<matplotlib.image.AxesImage at 0x7f839b027550>"
            ]
          },
          "execution_count": 85,
          "metadata": {},
          "output_type": "execute_result"
        },
        {
          "data": {
            "image/png": "[encoded data removed]",
            "text/plain": [
              "<Figure size 432x288 with 1 Axes>"
            ]
          },
          "metadata": {},
          "output_type": "display_data"
        }
      ],
      "source": [
        "# This is a true mask\n",
        "\n",
        "true_mask = Y_test[14,:,:,0]\n",
        "plt.imshow(true_mask, cmap='Blues', alpha=0.3)"
      ]
    },
    {
      "cell_type": "code",
      "execution_count": null,
      "metadata": {
        "colab": {
          "base_uri": "https://localhost:8080/"
        },
        "id": "jHi2UO8om-rC",
        "outputId": "9b8433dc-6416-4af8-ef72-d0091e9f1b90"
      },
      "outputs": [
        {
          "name": "stdout",
          "output_type": "stream",
          "text": [
            "IoU is 0.0\n"
          ]
        }
      ],
      "source": [
        "intersection = np.logical_and(mask, true_mask)\n",
        "union = np.logical_or(mask, true_mask)\n",
        "iou_score = np.sum(intersection) / np.sum(union)\n",
        "print('IoU is %s' % iou_score)"
      ]
    },
    {
      "cell_type": "code",
      "execution_count": null,
      "metadata": {
        "id": "qNEL5pYNnACG"
      },
      "outputs": [],
      "source": [
        "def Jaccard_img(y_true, y_pred): #https://www.jeremyjordan.me/evaluating-image-segmentation-models/\n",
        "    iou_score=0\n",
        "    counter=0\n",
        "    for i in range(y_true.shape[0]):\n",
        "        if np.sum(y_true[i])>0:#Considering only the slices that have hemorrhage regions, if y_true is all zeros -> iou_score=nan.\n",
        "            im1 = np.asarray(y_true[i]).astype(np.bool)\n",
        "            im2 = np.asarray(y_pred[i]).astype(np.bool)\n",
        "            intersection = np.logical_and(im1, im2)\n",
        "            union = np.logical_or(im1, im2)\n",
        "            iou_score+= np.sum(intersection) / np.sum(union)\n",
        "            counter+=1\n",
        "    if counter>0:\n",
        "        return iou_score/counter\n",
        "    else:\n",
        "        return np.nan"
      ]
    },
    {
      "cell_type": "code",
      "execution_count": null,
      "metadata": {
        "colab": {
          "base_uri": "https://localhost:8080/",
          "height": 445
        },
        "id": "WGZVVuYunRqe",
        "outputId": "f376f777-16af-41df-c600-895d7be56ca1"
      },
      "outputs": [
        {
          "name": "stderr",
          "output_type": "stream",
          "text": [
            "/usr/local/lib/python3.7/dist-packages/ipykernel_launcher.py:6: DeprecationWarning: `np.bool` is a deprecated alias for the builtin `bool`. To silence this warning, use `bool` by itself. Doing this will not modify any behavior and is safe. If you specifically wanted the numpy scalar type, use `np.bool_` here.\n",
            "Deprecated in NumPy 1.20; for more details and guidance: https://numpy.org/devdocs/release/1.20.0-notes.html#deprecations\n",
            "  \n",
            "/usr/local/lib/python3.7/dist-packages/ipykernel_launcher.py:7: DeprecationWarning: `np.bool` is a deprecated alias for the builtin `bool`. To silence this warning, use `bool` by itself. Doing this will not modify any behavior and is safe. If you specifically wanted the numpy scalar type, use `np.bool_` here.\n",
            "Deprecated in NumPy 1.20; for more details and guidance: https://numpy.org/devdocs/release/1.20.0-notes.html#deprecations\n",
            "  import sys\n"
          ]
        },
        {
          "ename": "ValueError",
          "evalue": "ignored",
          "output_type": "error",
          "traceback": [
            "\u001b[0;31m---------------------------------------------------------------------------\u001b[0m",
            "\u001b[0;31mValueError\u001b[0m                                Traceback (most recent call last)",
            "\u001b[0;32m<ipython-input-88-0195a8ed9095>\u001b[0m in \u001b[0;36m<module>\u001b[0;34m()\u001b[0m\n\u001b[0;32m----> 1\u001b[0;31m \u001b[0mjac_indx\u001b[0m \u001b[0;34m=\u001b[0m \u001b[0mJaccard_img\u001b[0m\u001b[0;34m(\u001b[0m\u001b[0mmask\u001b[0m\u001b[0;34m,\u001b[0m \u001b[0mpred_mask\u001b[0m\u001b[0;34m)\u001b[0m\u001b[0;34m\u001b[0m\u001b[0;34m\u001b[0m\u001b[0m\n\u001b[0m\u001b[1;32m      2\u001b[0m \u001b[0mprint\u001b[0m\u001b[0;34m(\u001b[0m\u001b[0mjac_indx\u001b[0m\u001b[0;34m)\u001b[0m\u001b[0;34m\u001b[0m\u001b[0;34m\u001b[0m\u001b[0m\n\u001b[1;32m      3\u001b[0m \u001b[0mprint\u001b[0m\u001b[0;34m(\u001b[0m\u001b[0;34m'*_--------------------------------------------'\u001b[0m\u001b[0;34m)\u001b[0m\u001b[0;34m\u001b[0m\u001b[0;34m\u001b[0m\u001b[0m\n",
            "\u001b[0;32m<ipython-input-87-310437cabba2>\u001b[0m in \u001b[0;36mJaccard_img\u001b[0;34m(y_true, y_pred)\u001b[0m\n\u001b[1;32m      6\u001b[0m             \u001b[0mim1\u001b[0m \u001b[0;34m=\u001b[0m \u001b[0mnp\u001b[0m\u001b[0;34m.\u001b[0m\u001b[0masarray\u001b[0m\u001b[0;34m(\u001b[0m\u001b[0my_true\u001b[0m\u001b[0;34m[\u001b[0m\u001b[0mi\u001b[0m\u001b[0;34m]\u001b[0m\u001b[0;34m)\u001b[0m\u001b[0;34m.\u001b[0m\u001b[0mastype\u001b[0m\u001b[0;34m(\u001b[0m\u001b[0mnp\u001b[0m\u001b[0;34m.\u001b[0m\u001b[0mbool\u001b[0m\u001b[0;34m)\u001b[0m\u001b[0;34m\u001b[0m\u001b[0;34m\u001b[0m\u001b[0m\n\u001b[1;32m      7\u001b[0m             \u001b[0mim2\u001b[0m \u001b[0;34m=\u001b[0m \u001b[0mnp\u001b[0m\u001b[0;34m.\u001b[0m\u001b[0masarray\u001b[0m\u001b[0;34m(\u001b[0m\u001b[0my_pred\u001b[0m\u001b[0;34m[\u001b[0m\u001b[0mi\u001b[0m\u001b[0;34m]\u001b[0m\u001b[0;34m)\u001b[0m\u001b[0;34m.\u001b[0m\u001b[0mastype\u001b[0m\u001b[0;34m(\u001b[0m\u001b[0mnp\u001b[0m\u001b[0;34m.\u001b[0m\u001b[0mbool\u001b[0m\u001b[0;34m)\u001b[0m\u001b[0;34m\u001b[0m\u001b[0;34m\u001b[0m\u001b[0m\n\u001b[0;32m----> 8\u001b[0;31m             \u001b[0mintersection\u001b[0m \u001b[0;34m=\u001b[0m \u001b[0mnp\u001b[0m\u001b[0;34m.\u001b[0m\u001b[0mlogical_and\u001b[0m\u001b[0;34m(\u001b[0m\u001b[0mim1\u001b[0m\u001b[0;34m,\u001b[0m \u001b[0mim2\u001b[0m\u001b[0;34m)\u001b[0m\u001b[0;34m\u001b[0m\u001b[0;34m\u001b[0m\u001b[0m\n\u001b[0m\u001b[1;32m      9\u001b[0m             \u001b[0munion\u001b[0m \u001b[0;34m=\u001b[0m \u001b[0mnp\u001b[0m\u001b[0;34m.\u001b[0m\u001b[0mlogical_or\u001b[0m\u001b[0;34m(\u001b[0m\u001b[0mim1\u001b[0m\u001b[0;34m,\u001b[0m \u001b[0mim2\u001b[0m\u001b[0;34m)\u001b[0m\u001b[0;34m\u001b[0m\u001b[0;34m\u001b[0m\u001b[0m\n\u001b[1;32m     10\u001b[0m             \u001b[0miou_score\u001b[0m\u001b[0;34m+=\u001b[0m \u001b[0mnp\u001b[0m\u001b[0;34m.\u001b[0m\u001b[0msum\u001b[0m\u001b[0;34m(\u001b[0m\u001b[0mintersection\u001b[0m\u001b[0;34m)\u001b[0m \u001b[0;34m/\u001b[0m \u001b[0mnp\u001b[0m\u001b[0;34m.\u001b[0m\u001b[0msum\u001b[0m\u001b[0;34m(\u001b[0m\u001b[0munion\u001b[0m\u001b[0;34m)\u001b[0m\u001b[0;34m\u001b[0m\u001b[0;34m\u001b[0m\u001b[0m\n",
            "\u001b[0;31mValueError\u001b[0m: operands could not be broadcast together with shapes (256,) (432,) "
          ]
        }
      ],
      "source": [
        "jac_indx = Jaccard_img(mask, pred_mask)\n",
        "print(jac_indx)\n",
        "print('*_--------------------------------------------')"
      ]
    }
  ],
  "metadata": {
    "accelerator": "GPU",
    "colab": {
      "collapsed_sections": [],
      "name": "PhysioNet_Segmentation_complete.ipynb",
      "provenance": [],
      "authorship_tag": "ABX9TyOTV9Wqzywk75NkcnYw40mr",
      "include_colab_link": true
    },
    "gpuClass": "standard",
    "kernelspec": {
      "display_name": "Python 3",
      "name": "python3"
    },
    "language_info": {
      "name": "python"
    }
  },
  "nbformat": 4,
  "nbformat_minor": 0
}